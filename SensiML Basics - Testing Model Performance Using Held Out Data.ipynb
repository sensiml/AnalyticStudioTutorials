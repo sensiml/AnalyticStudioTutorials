{
 "cells": [
  {
   "cell_type": "code",
   "execution_count": null,
   "metadata": {},
   "outputs": [],
   "source": [
    "from IPython.core.display import HTML\n",
    "HTML(\"<style>.container { width:80% !important; }</style>\")"
   ]
  },
  {
   "cell_type": "code",
   "execution_count": 4,
   "metadata": {},
   "outputs": [],
   "source": [
    "import os\n",
    "#os.environ['http_proxy'] = \"\"\n",
    "#os.environ['https_proxy'] = \"\""
   ]
  },
  {
   "cell_type": "markdown",
   "metadata": {},
   "source": [
    "## Overview\n",
    "The SensiML Python library uses a tvo pipeline step, which stands for train, validate, and optimize, to build models. After building a sandbox pipeline, it is good practice to test the models against a hold out data set. In this tutorial, we will demonstrate how to perform this final validation using the model's recognize_signal ability.\n",
    "\n",
    "* Connect to server, get project and instantiate a sandbox\n",
    "* Create a query for a subset of the data\n",
    "* Import the activity recognition pipeline and train the model\n",
    "* Create a query for the holdout test data\n",
    "* Use the models recognize_signal function to test performance of the model\n",
    "\n",
    "In this tutorial we will use the activity data set. This is a compilation of a user wearing a device while performing activities walking, running, climbing up, climbing down and crawling. The goal of our model is to recognize which activity the user is performing. \n",
    "\n"
   ]
  },
  {
   "cell_type": "markdown",
   "metadata": {},
   "source": [
    "## Training a Model"
   ]
  },
  {
   "cell_type": "markdown",
   "metadata": {},
   "source": [
    "### Connect to the server, get the project, instantiate a sandbox."
   ]
  },
  {
   "cell_type": "code",
   "execution_count": 6,
   "metadata": {},
   "outputs": [
    {
     "name": "stdout",
     "output_type": "stream",
     "text": [
      "Sandbox Sandbox_Hold_Out does not exist, creating a new sandbox.\n"
     ]
    }
   ],
   "source": [
    "import pandas as pd\n",
    "\n",
    "from sensiml import SensiML\n",
    "\n",
    "\n",
    "client = SensiML()\n",
    "client.project ='Activity'\n",
    "client.pipeline = 'Sandbox_Hold_Out'"
   ]
  },
  {
   "cell_type": "markdown",
   "metadata": {},
   "source": [
    "### Upload Train and Test Data"
   ]
  },
  {
   "cell_type": "code",
   "execution_count": 8,
   "metadata": {},
   "outputs": [
    {
     "data": {
      "text/html": [
       "<div>\n",
       "<style scoped>\n",
       "    .dataframe tbody tr th:only-of-type {\n",
       "        vertical-align: middle;\n",
       "    }\n",
       "\n",
       "    .dataframe tbody tr th {\n",
       "        vertical-align: top;\n",
       "    }\n",
       "\n",
       "    .dataframe thead th {\n",
       "        text-align: right;\n",
       "    }\n",
       "</style>\n",
       "<table border=\"1\" class=\"dataframe\">\n",
       "  <thead>\n",
       "    <tr style=\"text-align: right;\">\n",
       "      <th></th>\n",
       "      <th>Subject</th>\n",
       "      <th>Activity</th>\n",
       "      <th>AccelerometerX</th>\n",
       "      <th>AccelerometerY</th>\n",
       "      <th>AccelerometerZ</th>\n",
       "    </tr>\n",
       "  </thead>\n",
       "  <tbody>\n",
       "    <tr>\n",
       "      <th>0</th>\n",
       "      <td>U001</td>\n",
       "      <td>0</td>\n",
       "      <td>-317</td>\n",
       "      <td>-3000</td>\n",
       "      <td>925</td>\n",
       "    </tr>\n",
       "    <tr>\n",
       "      <th>1</th>\n",
       "      <td>U001</td>\n",
       "      <td>0</td>\n",
       "      <td>-284</td>\n",
       "      <td>-2968</td>\n",
       "      <td>903</td>\n",
       "    </tr>\n",
       "    <tr>\n",
       "      <th>2</th>\n",
       "      <td>U001</td>\n",
       "      <td>0</td>\n",
       "      <td>-243</td>\n",
       "      <td>-2987</td>\n",
       "      <td>933</td>\n",
       "    </tr>\n",
       "    <tr>\n",
       "      <th>3</th>\n",
       "      <td>U001</td>\n",
       "      <td>0</td>\n",
       "      <td>-193</td>\n",
       "      <td>-3051</td>\n",
       "      <td>936</td>\n",
       "    </tr>\n",
       "    <tr>\n",
       "      <th>4</th>\n",
       "      <td>U001</td>\n",
       "      <td>0</td>\n",
       "      <td>-150</td>\n",
       "      <td>-3059</td>\n",
       "      <td>915</td>\n",
       "    </tr>\n",
       "  </tbody>\n",
       "</table>\n",
       "</div>"
      ],
      "text/plain": [
       "  Subject  Activity  AccelerometerX  AccelerometerY  AccelerometerZ\n",
       "0    U001         0            -317           -3000             925\n",
       "1    U001         0            -284           -2968             903\n",
       "2    U001         0            -243           -2987             933\n",
       "3    U001         0            -193           -3051             936\n",
       "4    U001         0            -150           -3059             915"
      ]
     },
     "execution_count": 8,
     "metadata": {},
     "output_type": "execute_result"
    }
   ],
   "source": [
    "df = pd.read_csv('Support/activities_combinedSignalsWithLabel_small.csv')\n",
    "\n",
    "df_train = df[df['Subject'].isin(['U001', 'U002', 'U003', 'U004', 'U005', 'U006', 'U008', 'U009'])]\n",
    "df_test  =  df[df['Subject'].isin(['U010', 'U011', 'U012',])]\n",
    "df.head()"
   ]
  },
  {
   "cell_type": "code",
   "execution_count": 9,
   "metadata": {},
   "outputs": [
    {
     "name": "stdout",
     "output_type": "stream",
     "text": [
      "Uploading file \"activity_data_train.csv\" to SensiML Cloud.\n",
      "Upload of file \"activity_data_train.csv\"  to SensiMLKB  Cloud completed.\n",
      "Uploading file \"activity_data_test.csv\" to SensiML Cloud.\n",
      "Upload of file \"activity_data_test.csv\"  to SensiMLKB  Cloud completed.\n"
     ]
    },
    {
     "data": {
      "text/plain": [
       "<sensiml.client.SensiML at 0x1093b1ac8>"
      ]
     },
     "execution_count": 9,
     "metadata": {},
     "output_type": "execute_result"
    }
   ],
   "source": [
    "client.upload_dataframe('activity_data_train.csv',df_train)\n",
    "client.upload_dataframe('activity_data_test.csv',df_test)"
   ]
  },
  {
   "cell_type": "code",
   "execution_count": 27,
   "metadata": {},
   "outputs": [
    {
     "data": {
      "text/plain": [
       "Index(['Subject', 'Activity', 'AccelerometerX', 'AccelerometerY',\n",
       "       'AccelerometerZ'],\n",
       "      dtype='object')"
      ]
     },
     "execution_count": 27,
     "metadata": {},
     "output_type": "execute_result"
    }
   ],
   "source": [
    "df.columns"
   ]
  },
  {
   "cell_type": "markdown",
   "metadata": {},
   "source": [
    "### Train a model "
   ]
  },
  {
   "cell_type": "code",
   "execution_count": 28,
   "metadata": {},
   "outputs": [],
   "source": [
    "sensor_columns = ['AccelerometerX', 'AccelerometerY', 'AccelerometerZ']"
   ]
  },
  {
   "cell_type": "code",
   "execution_count": 57,
   "metadata": {},
   "outputs": [],
   "source": [
    "client.pipeline.reset()\n",
    "\n",
    "client.pipeline.set_input_data('activity_data_train.csv', data_columns=sensor_columns,\n",
    "                                                       group_columns=['Subject', 'Activity'],\n",
    "                                                       label_column='Activity')\n",
    "\n",
    "client.pipeline.add_transform('Windowing')\n",
    "\n",
    "\n",
    "client.pipeline.add_feature_generator([\"Mean\", 'Standard Deviation', 'Skewness', 'Kurtosis',\n",
    "                                    '25th Percentile', '75th Percentile', '100th Percentile',\n",
    "                                    'Zero Crossing Rate'],\n",
    "                                    function_defaults = {\"columns\":[u'AccelerometerY']})\n",
    "\n",
    "client.pipeline.add_transform('Min Max Scale')\n",
    "\n",
    "client.pipeline.set_validation_method('Recall')\n",
    "\n",
    "client.pipeline.set_classifier('PME', params={\"classification_mode\":'RBF','distance_mode':'L1'})\n",
    "\n",
    "client.pipeline.set_training_algorithm('Hierarchical Clustering with Neuron Optimization', params = {'number_of_neurons':7})\n",
    "\n",
    "client.pipeline.set_tvo({'validation_seed':0})"
   ]
  },
  {
   "cell_type": "code",
   "execution_count": 58,
   "metadata": {},
   "outputs": [
    {
     "name": "stdout",
     "output_type": "stream",
     "text": [
      "Executing Pipeline with Steps:\n",
      "\n",
      "------------------------------------------------------------------------\n",
      " 0.     Name: activity_data_train.csv   \t\tType: featurefile              \n",
      "------------------------------------------------------------------------\n",
      "------------------------------------------------------------------------\n",
      " 1.     Name: Windowing                 \t\tType: segmenter                \n",
      "------------------------------------------------------------------------\n",
      "------------------------------------------------------------------------\n",
      " 2.     Name: generator_set             \t\tType: generatorset             \n",
      "------------------------------------------------------------------------\n",
      "------------------------------------------------------------------------\n",
      " 3.     Name: Min Max Scale             \t\tType: transform                \n",
      "------------------------------------------------------------------------\n",
      "------------------------------------------------------------------------\n",
      " 4.     Name: tvo                       \t\tType: tvo                      \n",
      "------------------------------------------------------------------------\n",
      "\tClassifier: PME\n",
      "\t\tclassification_mode: RBF\n",
      "\t\tdistance_mode: L1\n",
      "\t\tmax_aif: 16384\n",
      "\t\tmin_aif: 2\n",
      "\t\treinforcement_learning: False\n",
      "\t\treserved_patterns: 0\n",
      "\n",
      "\tTraining Algo: Hierarchical Clustering with Neuron Optimization\n",
      "\t\taif_method: max\n",
      "\t\tcentroid_calculation: robust\n",
      "\t\tcluster_method: kmeans\n",
      "\t\tflip: 1\n",
      "\t\tlinkage_method: average\n",
      "\t\tmax_number_of_weak_vector: 1\n",
      "\t\tmin_number_of_dominant_vector: 3\n",
      "\t\tnumber_of_neurons: 7\n",
      "\t\tsingleton_aif: 0\n",
      "\n",
      "\tValidation Method: Recall\n",
      "\n",
      "\n",
      "------------------------------------------------------------------------\n",
      "\n",
      "\n",
      "Checking Pipeline Status:\n",
      "\n",
      "\n",
      "\n",
      "Results Retrieved... Execution Time: 0 min. 0 sec.\n"
     ]
    }
   ],
   "source": [
    "result, stats = client.pipeline.execute()"
   ]
  },
  {
   "cell_type": "code",
   "execution_count": 59,
   "metadata": {},
   "outputs": [
    {
     "name": "stdout",
     "output_type": "stream",
     "text": [
      "TRAINING ALGORITHM: Hierarchical Clustering with Neuron Optimization\n",
      "VALIDATION METHOD:  Recall\n",
      "CLASSIFIER:         PME\n",
      "\n",
      "AVERAGE METRICS:\n",
      "F1-SCORE:    98.1   sigma 0.00\n",
      "SENSITIVITY: 98.6   sigma 0.00\n",
      "PRECISION:   97.6   sigma 0.00\n",
      "\n",
      "--------------------------------------\n",
      "\n",
      "RECALL MODEL RESULTS : SET VALIDATION\n",
      "\n",
      "MODEL INDEX: Fold 0\n",
      "ACCURACY: 98.04\n",
      "NEURONS: 6\n",
      "\n"
     ]
    }
   ],
   "source": [
    "result.summarize()"
   ]
  },
  {
   "cell_type": "markdown",
   "metadata": {},
   "source": [
    "### Description of pipeline with all parameters\n",
    "\n",
    "You can see the description of the pipeline and all its parameters printed out by running the following."
   ]
  },
  {
   "cell_type": "code",
   "execution_count": 61,
   "metadata": {},
   "outputs": [
    {
     "name": "stdout",
     "output_type": "stream",
     "text": [
      "------------------------------------------------------------------------\n",
      " 0.     Name: activity_data_train.csv   \t\tType: featurefile              \n",
      "------------------------------------------------------------------------\n",
      "------------------------------------------------------------------------\n",
      " 1.     Name: Windowing                 \t\tType: segmenter                \n",
      "------------------------------------------------------------------------\n",
      "\twindow_size: 250\n",
      "\tdelta: 250\n",
      "\ttrain_delta: 0\n",
      "\treturn_segment_index: False\n",
      "------------------------------------------------------------------------\n",
      " 2.     Name: generator_set             \t\tType: generatorset             \n",
      "------------------------------------------------------------------------\n",
      "\t 0. Name: Mean                     \n",
      "\t\tcolumns: ['AccelerometerY']\n",
      "\n",
      "\t 1. Name: Standard Deviation       \n",
      "\t\tcolumns: ['AccelerometerY']\n",
      "\n",
      "\t 2. Name: Skewness                 \n",
      "\t\tcolumns: ['AccelerometerY']\n",
      "\n",
      "\t 3. Name: Kurtosis                 \n",
      "\t\tcolumns: ['AccelerometerY']\n",
      "\n",
      "\t 4. Name: 25th Percentile          \n",
      "\t\tcolumns: ['AccelerometerY']\n",
      "\n",
      "\t 5. Name: 75th Percentile          \n",
      "\t\tcolumns: ['AccelerometerY']\n",
      "\n",
      "\t 6. Name: 100th Percentile         \n",
      "\t\tcolumns: ['AccelerometerY']\n",
      "\n",
      "\t 7. Name: Zero Crossing Rate       \n",
      "\t\tcolumns: ['AccelerometerY']\n",
      "\n",
      "\n",
      "------------------------------------------------------------------------\n",
      " 3.     Name: Min Max Scale             \t\tType: transform                \n",
      "------------------------------------------------------------------------\n",
      "\tmin_bound: 0\n",
      "\tmax_bound: 255\n",
      "\tpad: 0\n",
      "\tfeature_min_max_parameters: {}\n",
      "------------------------------------------------------------------------\n",
      " 4.     Name: tvo                       \t\tType: tvo                      \n",
      "------------------------------------------------------------------------\n",
      "\tClassifier: PME\n",
      "\t\tclassification_mode: RBF\n",
      "\t\tdistance_mode: L1\n",
      "\t\tmax_aif: 16384\n",
      "\t\tmin_aif: 2\n",
      "\t\treinforcement_learning: False\n",
      "\t\treserved_patterns: 0\n",
      "\n",
      "\tTraining Algo: Hierarchical Clustering with Neuron Optimization\n",
      "\t\taif_method: max\n",
      "\t\tcentroid_calculation: robust\n",
      "\t\tcluster_method: kmeans\n",
      "\t\tflip: 1\n",
      "\t\tlinkage_method: average\n",
      "\t\tmax_number_of_weak_vector: 1\n",
      "\t\tmin_number_of_dominant_vector: 3\n",
      "\t\tnumber_of_neurons: 7\n",
      "\t\tsingleton_aif: 0\n",
      "\n",
      "\tValidation Method: Recall\n",
      "\n",
      "\n",
      "------------------------------------------------------------------------\n",
      "\n"
     ]
    }
   ],
   "source": [
    "client.pipeline.describe(show_params=True, show_set_params=True)"
   ]
  },
  {
   "cell_type": "markdown",
   "metadata": {},
   "source": [
    "## Evaluate the performance of the model on our hold out data set"
   ]
  },
  {
   "cell_type": "markdown",
   "metadata": {},
   "source": [
    "We would like to test our model against the hold out data set. In this tutorial we are using the Subject as the filter, but this could be any metadata tag"
   ]
  },
  {
   "cell_type": "markdown",
   "metadata": {},
   "source": [
    "\n",
    "The results returned from the sandbox execution contains all of the models which were built during the pipeline. Select the model that you would like to test, in our case there is only a single model because we used Recall. Then pass the data set that we just returned from the query into the models recognize_signal function. \n",
    "\n",
    "recognize_signal has several modes. The two main ones refer to which platform you would like to use. \n",
    "\n",
    "* emulator (default): runs the c code directly in emulation\n",
    "* cloud: allows for advanced manipulations of pipeline \n",
    "    * stop_step (int): the execution of the pipeline is stopped at a particular step and results are returned\n",
    "    * compare_labels (bool): the results of the pipeline are compared against the actual labels passed in. \n",
    "            "
   ]
  },
  {
   "cell_type": "markdown",
   "metadata": {},
   "source": [
    "Lets first run using the default option of the emulator"
   ]
  },
  {
   "cell_type": "code",
   "execution_count": 40,
   "metadata": {},
   "outputs": [
    {
     "name": "stdout",
     "output_type": "stream",
     "text": [
      "\n",
      "Checking Pipeline Status:\n",
      "\n",
      "\n",
      "Status: Running  Time:   0 sec.   ..\n",
      "\n",
      "Results Retrieved... Execution Time: 0 min. 45 sec.\n"
     ]
    }
   ],
   "source": [
    "model = result.configurations[0].models[0]\n",
    "recog_results, summary = model.recognize_signal(datafile=\"activity_data_test.csv\")"
   ]
  },
  {
   "cell_type": "markdown",
   "metadata": {},
   "source": [
    "Description of returned results for emulator platform:\n",
    "* Classification: Category of Fired Neuron, this is the integer value that the firmware device will return.\n",
    "* ClassificationName: The name of the category in the class map\n",
    "* FeatureVector: Generated Feature Vector for this segment\n",
    "* ModelName: The name of the model that returned the final result\n",
    "* SegmentEnd: The End of the segment\n",
    "* SegmentID: The ID of the segment\n",
    "* SegmentLength: The length of the segment\n",
    "* SegmentStart: The start index of the segment\n"
   ]
  },
  {
   "cell_type": "code",
   "execution_count": 46,
   "metadata": {},
   "outputs": [
    {
     "data": {
      "text/html": [
       "<div>\n",
       "<style scoped>\n",
       "    .dataframe tbody tr th:only-of-type {\n",
       "        vertical-align: middle;\n",
       "    }\n",
       "\n",
       "    .dataframe tbody tr th {\n",
       "        vertical-align: top;\n",
       "    }\n",
       "\n",
       "    .dataframe thead th {\n",
       "        text-align: right;\n",
       "    }\n",
       "</style>\n",
       "<table border=\"1\" class=\"dataframe\">\n",
       "  <thead>\n",
       "    <tr style=\"text-align: right;\">\n",
       "      <th></th>\n",
       "      <th>Classification</th>\n",
       "      <th>ClassificationName</th>\n",
       "      <th>FeatureVector</th>\n",
       "      <th>ModelName</th>\n",
       "      <th>SegmentEnd</th>\n",
       "      <th>SegmentID</th>\n",
       "      <th>SegmentLength</th>\n",
       "      <th>SegmentStart</th>\n",
       "    </tr>\n",
       "  </thead>\n",
       "  <tbody>\n",
       "    <tr>\n",
       "      <th>0</th>\n",
       "      <td>1</td>\n",
       "      <td>0</td>\n",
       "      <td>[20, 36, 88, 36, 92, 16, 8, 0]</td>\n",
       "      <td>0</td>\n",
       "      <td>250</td>\n",
       "      <td>0</td>\n",
       "      <td>250</td>\n",
       "      <td>0</td>\n",
       "    </tr>\n",
       "    <tr>\n",
       "      <th>1</th>\n",
       "      <td>1</td>\n",
       "      <td>0</td>\n",
       "      <td>[18, 41, 105, 19, 87, 20, 13, 0]</td>\n",
       "      <td>0</td>\n",
       "      <td>500</td>\n",
       "      <td>1</td>\n",
       "      <td>250</td>\n",
       "      <td>250</td>\n",
       "    </tr>\n",
       "    <tr>\n",
       "      <th>2</th>\n",
       "      <td>1</td>\n",
       "      <td>0</td>\n",
       "      <td>[18, 34, 80, 53, 92, 13, 8, 0]</td>\n",
       "      <td>0</td>\n",
       "      <td>750</td>\n",
       "      <td>2</td>\n",
       "      <td>250</td>\n",
       "      <td>500</td>\n",
       "    </tr>\n",
       "    <tr>\n",
       "      <th>3</th>\n",
       "      <td>1</td>\n",
       "      <td>0</td>\n",
       "      <td>[22, 37, 97, 21, 91, 22, 10, 0]</td>\n",
       "      <td>0</td>\n",
       "      <td>1000</td>\n",
       "      <td>3</td>\n",
       "      <td>250</td>\n",
       "      <td>750</td>\n",
       "    </tr>\n",
       "    <tr>\n",
       "      <th>4</th>\n",
       "      <td>1</td>\n",
       "      <td>0</td>\n",
       "      <td>[20, 38, 102, 10, 89, 19, 11, 0]</td>\n",
       "      <td>0</td>\n",
       "      <td>1250</td>\n",
       "      <td>4</td>\n",
       "      <td>250</td>\n",
       "      <td>1000</td>\n",
       "    </tr>\n",
       "  </tbody>\n",
       "</table>\n",
       "</div>"
      ],
      "text/plain": [
       "   Classification ClassificationName                     FeatureVector  \\\n",
       "0               1                  0    [20, 36, 88, 36, 92, 16, 8, 0]   \n",
       "1               1                  0  [18, 41, 105, 19, 87, 20, 13, 0]   \n",
       "2               1                  0    [18, 34, 80, 53, 92, 13, 8, 0]   \n",
       "3               1                  0   [22, 37, 97, 21, 91, 22, 10, 0]   \n",
       "4               1                  0  [20, 38, 102, 10, 89, 19, 11, 0]   \n",
       "\n",
       "  ModelName  SegmentEnd  SegmentID  SegmentLength  SegmentStart  \n",
       "0         0         250          0            250             0  \n",
       "1         0         500          1            250           250  \n",
       "2         0         750          2            250           500  \n",
       "3         0        1000          3            250           750  \n",
       "4         0        1250          4            250          1000  "
      ]
     },
     "execution_count": 46,
     "metadata": {},
     "output_type": "execute_result"
    }
   ],
   "source": [
    "recog_results.head()"
   ]
  },
  {
   "cell_type": "markdown",
   "metadata": {},
   "source": [
    "\n",
    "Next, lets look at the platform='cloud' and also ask it to compare the labels for us. When we set compare_labels=True, model.recognize_signal will return a confusion matrix, if you pass labeled data."
   ]
  },
  {
   "cell_type": "code",
   "execution_count": 47,
   "metadata": {},
   "outputs": [
    {
     "name": "stdout",
     "output_type": "stream",
     "text": [
      "\n",
      "Checking Pipeline Status:\n",
      "\n",
      "\n",
      "Status: Running  Time:   0 sec.   .\n",
      "\n",
      "Results Retrieved... Execution Time: 0 min. 30 sec.\n"
     ]
    }
   ],
   "source": [
    "model = result.configurations[0].models[0]\n",
    "recog_results_cloud, summary_cloud = model.recognize_signal(datafile=\"activity_data_test.csv\", platform='cloud', compare_labels=True)"
   ]
  },
  {
   "cell_type": "markdown",
   "metadata": {},
   "source": [
    "Description of returned results for cloud platform:\n",
    "* DistanceVector: Distance of closest Neuron\n",
    "* NIDVector: Index of Fired Neuron\n",
    "* CategoryVector: Category of Fired Neuron, this is the integer value that the firmware device will return.\n",
    "* MappedCategoryVector: The name of the category in the class map\n",
    "\n"
   ]
  },
  {
   "cell_type": "code",
   "execution_count": 50,
   "metadata": {},
   "outputs": [
    {
     "data": {
      "text/html": [
       "<div>\n",
       "<style scoped>\n",
       "    .dataframe tbody tr th:only-of-type {\n",
       "        vertical-align: middle;\n",
       "    }\n",
       "\n",
       "    .dataframe tbody tr th {\n",
       "        vertical-align: top;\n",
       "    }\n",
       "\n",
       "    .dataframe thead th {\n",
       "        text-align: right;\n",
       "    }\n",
       "</style>\n",
       "<table border=\"1\" class=\"dataframe\">\n",
       "  <thead>\n",
       "    <tr style=\"text-align: right;\">\n",
       "      <th></th>\n",
       "      <th>DistanceVector</th>\n",
       "      <th>NIDVector</th>\n",
       "      <th>CategoryVector</th>\n",
       "      <th>MappedCategoryVector</th>\n",
       "      <th>Activity</th>\n",
       "      <th>SegmentID</th>\n",
       "      <th>Subject</th>\n",
       "    </tr>\n",
       "  </thead>\n",
       "  <tbody>\n",
       "    <tr>\n",
       "      <th>0</th>\n",
       "      <td>[42]</td>\n",
       "      <td>[1]</td>\n",
       "      <td>[1]</td>\n",
       "      <td>[0]</td>\n",
       "      <td>0</td>\n",
       "      <td>0</td>\n",
       "      <td>U010</td>\n",
       "    </tr>\n",
       "    <tr>\n",
       "      <th>1</th>\n",
       "      <td>[55]</td>\n",
       "      <td>[1]</td>\n",
       "      <td>[1]</td>\n",
       "      <td>[0]</td>\n",
       "      <td>0</td>\n",
       "      <td>0</td>\n",
       "      <td>U011</td>\n",
       "    </tr>\n",
       "    <tr>\n",
       "      <th>2</th>\n",
       "      <td>[59]</td>\n",
       "      <td>[1]</td>\n",
       "      <td>[1]</td>\n",
       "      <td>[0]</td>\n",
       "      <td>0</td>\n",
       "      <td>0</td>\n",
       "      <td>U012</td>\n",
       "    </tr>\n",
       "    <tr>\n",
       "      <th>3</th>\n",
       "      <td>[39]</td>\n",
       "      <td>[1]</td>\n",
       "      <td>[1]</td>\n",
       "      <td>[0]</td>\n",
       "      <td>0</td>\n",
       "      <td>1</td>\n",
       "      <td>U010</td>\n",
       "    </tr>\n",
       "    <tr>\n",
       "      <th>4</th>\n",
       "      <td>[49]</td>\n",
       "      <td>[1]</td>\n",
       "      <td>[1]</td>\n",
       "      <td>[0]</td>\n",
       "      <td>0</td>\n",
       "      <td>1</td>\n",
       "      <td>U011</td>\n",
       "    </tr>\n",
       "  </tbody>\n",
       "</table>\n",
       "</div>"
      ],
      "text/plain": [
       "  DistanceVector NIDVector CategoryVector MappedCategoryVector  Activity  \\\n",
       "0           [42]       [1]            [1]                  [0]         0   \n",
       "1           [55]       [1]            [1]                  [0]         0   \n",
       "2           [59]       [1]            [1]                  [0]         0   \n",
       "3           [39]       [1]            [1]                  [0]         0   \n",
       "4           [49]       [1]            [1]                  [0]         0   \n",
       "\n",
       "   SegmentID Subject  \n",
       "0          0    U010  \n",
       "1          0    U011  \n",
       "2          0    U012  \n",
       "3          1    U010  \n",
       "4          1    U011  "
      ]
     },
     "execution_count": 50,
     "metadata": {},
     "output_type": "execute_result"
    }
   ],
   "source": [
    "recog_results_cloud.head()"
   ]
  },
  {
   "cell_type": "markdown",
   "metadata": {},
   "source": [
    "The confusion matrix is included in the summary"
   ]
  },
  {
   "cell_type": "code",
   "execution_count": 52,
   "metadata": {},
   "outputs": [
    {
     "data": {
      "text/plain": [
       "CONFUSION MATRIX:\n",
       "                   1         0         2         4       UNK       UNC   Support   Sens(%)\n",
       "         1      32.0       0.0       0.0       0.0       1.0       0.0      33.0      97.0\n",
       "         0       0.0      34.0       0.0       0.0       0.0       0.0      34.0     100.0\n",
       "         2       0.0       0.0       5.0       0.0       5.0       0.0      10.0      50.0\n",
       "         4       0.0       0.0       0.0      45.0       1.0       0.0      46.0      97.8\n",
       "\n",
       "     Total        32        34         5        45         7         0       123          \n",
       "\n",
       "PosPred(%)     100.0     100.0     100.0     100.0                        Acc(%)      94.3"
      ]
     },
     "execution_count": 52,
     "metadata": {},
     "output_type": "execute_result"
    }
   ],
   "source": [
    "summary_cloud['confusion_matrix']"
   ]
  },
  {
   "cell_type": "markdown",
   "metadata": {},
   "source": [
    "The summary of the steps that were executed is also included. Notice that when we use recognize_signal we do not train a model again, but use the model that was previously trained to classify the input data. Additionally, the query step is removed since we use the dataframe passed into recognize_signal."
   ]
  },
  {
   "cell_type": "code",
   "execution_count": 53,
   "metadata": {},
   "outputs": [
    {
     "data": {
      "text/html": [
       "<div>\n",
       "<style scoped>\n",
       "    .dataframe tbody tr th:only-of-type {\n",
       "        vertical-align: middle;\n",
       "    }\n",
       "\n",
       "    .dataframe tbody tr th {\n",
       "        vertical-align: top;\n",
       "    }\n",
       "\n",
       "    .dataframe thead th {\n",
       "        text-align: right;\n",
       "    }\n",
       "</style>\n",
       "<table border=\"1\" class=\"dataframe\">\n",
       "  <thead>\n",
       "    <tr style=\"text-align: right;\">\n",
       "      <th></th>\n",
       "      <th>cached</th>\n",
       "      <th>name</th>\n",
       "      <th>runtime</th>\n",
       "      <th>step #</th>\n",
       "      <th>type</th>\n",
       "    </tr>\n",
       "  </thead>\n",
       "  <tbody>\n",
       "    <tr>\n",
       "      <th>0</th>\n",
       "      <td>False</td>\n",
       "      <td>Windowing</td>\n",
       "      <td>1.018689</td>\n",
       "      <td>0</td>\n",
       "      <td>segmenter</td>\n",
       "    </tr>\n",
       "    <tr>\n",
       "      <th>1</th>\n",
       "      <td>False</td>\n",
       "      <td>generator_set</td>\n",
       "      <td>2.131407</td>\n",
       "      <td>1</td>\n",
       "      <td>generatorset</td>\n",
       "    </tr>\n",
       "    <tr>\n",
       "      <th>2</th>\n",
       "      <td>False</td>\n",
       "      <td>Min Max Scale</td>\n",
       "      <td>1.034444</td>\n",
       "      <td>2</td>\n",
       "      <td>transform</td>\n",
       "    </tr>\n",
       "  </tbody>\n",
       "</table>\n",
       "</div>"
      ],
      "text/plain": [
       "   cached           name   runtime  step #          type\n",
       "0   False      Windowing  1.018689       0     segmenter\n",
       "1   False  generator_set  2.131407       1  generatorset\n",
       "2   False  Min Max Scale  1.034444       2     transform"
      ]
     },
     "execution_count": 53,
     "metadata": {},
     "output_type": "execute_result"
    }
   ],
   "source": [
    "summary_cloud['execution_summary']"
   ]
  },
  {
   "cell_type": "markdown",
   "metadata": {},
   "source": [
    "Let's go ahead run the same thing, but let the compare_labels default to False."
   ]
  },
  {
   "cell_type": "code",
   "execution_count": 54,
   "metadata": {},
   "outputs": [
    {
     "name": "stdout",
     "output_type": "stream",
     "text": [
      "\n",
      "Checking Pipeline Status:\n",
      "\n",
      "\n",
      "Status: Running  Time:   0 sec.   .\n",
      "\n",
      "Results Retrieved... Execution Time: 0 min. 30 sec.\n"
     ]
    }
   ],
   "source": [
    "recog_result_no_labels, summary_no_label = model.recognize_signal(datafile=\"activity_data_test.csv\", platform='cloud')"
   ]
  },
  {
   "cell_type": "code",
   "execution_count": 55,
   "metadata": {},
   "outputs": [
    {
     "data": {
      "text/html": [
       "<div>\n",
       "<style scoped>\n",
       "    .dataframe tbody tr th:only-of-type {\n",
       "        vertical-align: middle;\n",
       "    }\n",
       "\n",
       "    .dataframe tbody tr th {\n",
       "        vertical-align: top;\n",
       "    }\n",
       "\n",
       "    .dataframe thead th {\n",
       "        text-align: right;\n",
       "    }\n",
       "</style>\n",
       "<table border=\"1\" class=\"dataframe\">\n",
       "  <thead>\n",
       "    <tr style=\"text-align: right;\">\n",
       "      <th></th>\n",
       "      <th>DistanceVector</th>\n",
       "      <th>NIDVector</th>\n",
       "      <th>CategoryVector</th>\n",
       "      <th>MappedCategoryVector</th>\n",
       "      <th>Activity</th>\n",
       "      <th>SegmentID</th>\n",
       "      <th>Subject</th>\n",
       "    </tr>\n",
       "  </thead>\n",
       "  <tbody>\n",
       "    <tr>\n",
       "      <th>0</th>\n",
       "      <td>[42]</td>\n",
       "      <td>[1]</td>\n",
       "      <td>[1]</td>\n",
       "      <td>[0]</td>\n",
       "      <td>0</td>\n",
       "      <td>0</td>\n",
       "      <td>U010</td>\n",
       "    </tr>\n",
       "    <tr>\n",
       "      <th>1</th>\n",
       "      <td>[55]</td>\n",
       "      <td>[1]</td>\n",
       "      <td>[1]</td>\n",
       "      <td>[0]</td>\n",
       "      <td>0</td>\n",
       "      <td>0</td>\n",
       "      <td>U011</td>\n",
       "    </tr>\n",
       "    <tr>\n",
       "      <th>2</th>\n",
       "      <td>[59]</td>\n",
       "      <td>[1]</td>\n",
       "      <td>[1]</td>\n",
       "      <td>[0]</td>\n",
       "      <td>0</td>\n",
       "      <td>0</td>\n",
       "      <td>U012</td>\n",
       "    </tr>\n",
       "    <tr>\n",
       "      <th>3</th>\n",
       "      <td>[39]</td>\n",
       "      <td>[1]</td>\n",
       "      <td>[1]</td>\n",
       "      <td>[0]</td>\n",
       "      <td>0</td>\n",
       "      <td>1</td>\n",
       "      <td>U010</td>\n",
       "    </tr>\n",
       "    <tr>\n",
       "      <th>4</th>\n",
       "      <td>[49]</td>\n",
       "      <td>[1]</td>\n",
       "      <td>[1]</td>\n",
       "      <td>[0]</td>\n",
       "      <td>0</td>\n",
       "      <td>1</td>\n",
       "      <td>U011</td>\n",
       "    </tr>\n",
       "  </tbody>\n",
       "</table>\n",
       "</div>"
      ],
      "text/plain": [
       "  DistanceVector NIDVector CategoryVector MappedCategoryVector  Activity  \\\n",
       "0           [42]       [1]            [1]                  [0]         0   \n",
       "1           [55]       [1]            [1]                  [0]         0   \n",
       "2           [59]       [1]            [1]                  [0]         0   \n",
       "3           [39]       [1]            [1]                  [0]         0   \n",
       "4           [49]       [1]            [1]                  [0]         0   \n",
       "\n",
       "   SegmentID Subject  \n",
       "0          0    U010  \n",
       "1          0    U011  \n",
       "2          0    U012  \n",
       "3          1    U010  \n",
       "4          1    U011  "
      ]
     },
     "execution_count": 55,
     "metadata": {},
     "output_type": "execute_result"
    }
   ],
   "source": [
    "recog_result_no_labels.head()"
   ]
  },
  {
   "cell_type": "markdown",
   "metadata": {},
   "source": [
    "The cofusion matrix is not returned because we didn't request comparing the labels. "
   ]
  },
  {
   "cell_type": "code",
   "execution_count": 56,
   "metadata": {},
   "outputs": [
    {
     "data": {
      "text/plain": [
       "{'execution_summary':    cached           name   runtime  step #          type\n",
       " 0   False      Windowing  1.047432       0     segmenter\n",
       " 1   False  generator_set  2.134541       1  generatorset\n",
       " 2   False  Min Max Scale  2.037516       2     transform,\n",
       " 'summary': Empty DataFrame\n",
       " Columns: []\n",
       " Index: []}"
      ]
     },
     "execution_count": 56,
     "metadata": {},
     "output_type": "execute_result"
    }
   ],
   "source": [
    "summary_no_label"
   ]
  }
 ],
 "metadata": {
  "anaconda-cloud": {},
  "kernelspec": {
   "display_name": "Python 3",
   "language": "python",
   "name": "python3"
  },
  "language_info": {
   "codemirror_mode": {
    "name": "ipython",
    "version": 3
   },
   "file_extension": ".py",
   "mimetype": "text/x-python",
   "name": "python",
   "nbconvert_exporter": "python",
   "pygments_lexer": "ipython3",
   "version": "3.7.0"
  },
  "toc": {
   "base_numbering": 1,
   "nav_menu": {},
   "number_sections": true,
   "sideBar": true,
   "skip_h1_title": false,
   "title_cell": "Table of Contents",
   "title_sidebar": "Contents",
   "toc_cell": false,
   "toc_position": {},
   "toc_section_display": true,
   "toc_window_display": true
  }
 },
 "nbformat": 4,
 "nbformat_minor": 1
}
