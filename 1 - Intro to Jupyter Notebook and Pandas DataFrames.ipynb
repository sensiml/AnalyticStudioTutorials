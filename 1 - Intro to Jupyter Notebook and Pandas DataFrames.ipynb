{
 "cells": [
  {
   "cell_type": "markdown",
   "metadata": {},
   "source": [
    "## Basic Introduction to Jupyter Notebook and Pandas DataFrames\n",
    "\n",
    "Jupyter Notebook provides a Python interface that has become very popular with data scientists because it blends text, code, and code execution into a single interface. It has a bit of a learning curve but has proven to be very powerful in practice. pandas Data Frames can be thought of as data objects that act like Excel spread sheets. In this tutorial we use pandas dataframes to manipulate our data.\n",
    "\n",
    "#### Note: If you are already familiar with Jupyter Notebook and pandas, you can skip this tutorial.\n",
    "\n",
    "\n",
    "### A few things to get you started with Jupyter Notebook:\n",
    "\n",
    "Look to the left of the cell below, do you see the \"In [ ]:\".\n",
    "    * in cells that have not been executed you will see an In [ ]:\n",
    "    * in cells that are executing, or waiting to be executed you will see In[*]:\n",
    "    * in cells that have already been executed, you will see In[ <some number> ]: which indicates the order it was executed.\n",
    "    \n",
    "Let's go ahead and execute the cell below.\n",
    "\n",
    "* To run a cell, you can click the play button in the toolbar, or press *Shift + Enter*.\n",
    "\n",
    "* To stop an executing cell, click the square button in the tool bar. \n",
    "\n",
    "Try executing the cell below. It will keep running until you hit the stop button. Notice that there is a delay in stopping. The cell will not stop until the sleep has finished. "
   ]
  },
  {
   "cell_type": "code",
   "execution_count": null,
   "metadata": {
    "collapsed": true
   },
   "outputs": [],
   "source": [
    "import time\n",
    "while True:\n",
    "    print('Going to sleep... Click the Stop button to exit this loop.')\n",
    "    time.sleep(5)"
   ]
  },
  {
   "cell_type": "markdown",
   "metadata": {},
   "source": [
    "Note: The KeyboardInterrupt Exception is a result of you terminating the cell. When you see a message like that, it is often a Python exception. Ignore the traceback and look at the bottom of the message for information about what caused the error. If you don't understand the error message, searching Google for that exact error message will often lead you to understanding what went wrong.\n",
    "\n",
    "Great, so far so good! Next, let's add a new cell. You will often want to add a cell in the notebook to try out executing some function or explore the data. To add a cell, click on insert in the toolbar, and select add cell below. In the cell that you create, go ahead create a test DataFrame for us to play with. Copy the following code into the cell you create and run the cell.\n",
    "\n",
    "    import pandas as pd\n",
    "    df = pd.DataFrame(zip(range(10), range(0,20,2)), columns=['X','Y'])\n",
    "    df['Z'] = 5\n",
    "\n",
    "\n",
    "Often  you don't want the entire dataframe to display. To show only the first 5 rows use\n",
    "        \n",
    "        df.head()\n",
    "        \n",
    "go ahead and try that in the cell below. The output should show only the first 5 rows."
   ]
  },
  {
   "cell_type": "code",
   "execution_count": null,
   "metadata": {
    "collapsed": true
   },
   "outputs": [],
   "source": [
    "df.head()"
   ]
  },
  {
   "cell_type": "markdown",
   "metadata": {},
   "source": [
    "Next, let's perform some visualization of the dataframe. Below are some examples of a few different plots that would potentially be interesting to look at. You can reference these in the future when you are making visualizations yourself.\n",
    "\n",
    "Note: The %matplotlib inline command is a Jupyter quirk that allows plots to be shown inline. It only needs to be executed once in the pipeline and plots will always be shown afterwards. The figsize argument is not necessary, but makes plot visualization much easier. "
   ]
  },
  {
   "cell_type": "code",
   "execution_count": null,
   "metadata": {
    "collapsed": true
   },
   "outputs": [],
   "source": [
    "%matplotlib inline\n",
    "df.plot(figsize=(12,6))"
   ]
  },
  {
   "cell_type": "code",
   "execution_count": null,
   "metadata": {
    "collapsed": true
   },
   "outputs": [],
   "source": [
    "df.plot(x='Y', y='X',figsize=(12,6))"
   ]
  },
  {
   "cell_type": "code",
   "execution_count": null,
   "metadata": {
    "collapsed": true
   },
   "outputs": [],
   "source": [
    "df['X'].plot(figsize=(12,6))"
   ]
  },
  {
   "cell_type": "markdown",
   "metadata": {},
   "source": [
    "Another useful DataFrame function is the .unique() option and the .describe() option."
   ]
  },
  {
   "cell_type": "code",
   "execution_count": null,
   "metadata": {
    "collapsed": true
   },
   "outputs": [],
   "source": [
    "print(df['X'].unique())\n",
    "print(df['Z'].unique())"
   ]
  },
  {
   "cell_type": "code",
   "execution_count": null,
   "metadata": {
    "collapsed": true
   },
   "outputs": [],
   "source": [
    "df.describe()"
   ]
  },
  {
   "cell_type": "markdown",
   "metadata": {},
   "source": [
    "That's all for the basic introduction. If you have questions about pandas data frames, there is excellent documentation online for doing all sorts of data manipulation see: https://pandas.pydata.org/pandas-docs/stable/user_guide/dsintro.html\n",
    "\n",
    "For more information about IPython notebook you can click the Help button up top.\n"
   ]
  }
 ],
 "metadata": {
  "anaconda-cloud": {},
  "kernelspec": {
   "display_name": "Python 3",
   "language": "python",
   "name": "python3"
  },
  "language_info": {
   "codemirror_mode": {
    "name": "ipython",
    "version": 3
   },
   "file_extension": ".py",
   "mimetype": "text/x-python",
   "name": "python",
   "nbconvert_exporter": "python",
   "pygments_lexer": "ipython3",
   "version": "3.7.0"
  },
  "toc": {
   "base_numbering": 1,
   "nav_menu": {},
   "number_sections": true,
   "sideBar": true,
   "skip_h1_title": false,
   "title_cell": "Table of Contents",
   "title_sidebar": "Contents",
   "toc_cell": false,
   "toc_position": {
    "height": "1261px",
    "left": "0px",
    "right": "2225px",
    "top": "65px",
    "width": "335px"
   },
   "toc_section_display": "block",
   "toc_window_display": true
  }
 },
 "nbformat": 4,
 "nbformat_minor": 1
}
