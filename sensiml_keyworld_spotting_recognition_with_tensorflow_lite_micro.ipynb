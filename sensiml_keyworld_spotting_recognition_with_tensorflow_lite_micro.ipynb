{
  "nbformat": 4,
  "nbformat_minor": 0,
  "metadata": {
    "colab": {
      "name": "sensiml_audio_recognition.ipynb",
      "provenance": [],
      "collapsed_sections": [],
      "toc_visible": true,
      "include_colab_link": true
    },
    "kernelspec": {
      "name": "python3",
      "display_name": "Python 3"
    }
  },
  "cells": [
    {
      "cell_type": "markdown",
      "metadata": {
        "id": "view-in-github",
        "colab_type": "text"
      },
      "source": [
        "<a href=\"https://colab.research.google.com/github/sensiml/AnalyticStudioTutorials/blob/master/sensiml_keyworld_spotting_recognition_with_tensorflow_lite_micro.ipynb\" target=\"_parent\"><img src=\"https://colab.research.google.com/assets/colab-badge.svg\" alt=\"Open In Colab\"/></a>"
      ]
    },
    {
      "cell_type": "code",
      "metadata": {
        "id": "-nH64mMtH7wO"
      },
      "source": [
        "import tensorflow as tf\n",
        "import numpy as np\n",
        "import matplotlib.pyplot as plt\n",
        "import math"
      ],
      "execution_count": 1,
      "outputs": []
    },
    {
      "cell_type": "markdown",
      "metadata": {
        "id": "assW5g5DH9YY"
      },
      "source": [
        "## SensiML Python Client\n",
        "\n",
        "We are going to connect to SensiML's cloud engine using the SensiML Development Python Client. If you have not yet created an account on SensiML you will need to do that before continuing. You can create a free account by going here\n",
        "\n",
        "To install the client in the colab enviornment run the command in the following cell."
      ]
    },
    {
      "cell_type": "code",
      "metadata": {
        "id": "ikLK27oprj8G"
      },
      "source": [
        "!pip install sensiml-dev -U"
      ],
      "execution_count": null,
      "outputs": []
    },
    {
      "cell_type": "markdown",
      "metadata": {
        "id": "0UdDSPvErpO-"
      },
      "source": [
        "Next, import the SensiML python client and use it to connect to SensiML Cloud.  Run the following cell, which will ask you for your username and password. After connecting, you will be able to use the python client to manage the data in your project, create queries, build and teset models as well as download firmware. Further documentation for using the python client can be found [here](https://sensiml.com/documentation/api-methods/overview.html)."
      ]
    },
    {
      "cell_type": "code",
      "metadata": {
        "id": "CkM3SHoDJIFs",
        "colab": {
          "base_uri": "https://localhost:8080/",
          "height": 17
        },
        "outputId": "37200b2f-b4ab-49aa-a513-9d86d46fc7ed"
      },
      "source": [
        "from sensiml import *\n",
        "import sensiml.tensorflow.utils as sml_tf"
      ],
      "execution_count": 3,
      "outputs": [
        {
          "output_type": "display_data",
          "data": {
            "text/html": [
              "<style>.container { width:90% !important; }</style>"
            ],
            "text/plain": [
              "<IPython.core.display.HTML object>"
            ]
          },
          "metadata": {
            "tags": []
          }
        }
      ]
    },
    {
      "cell_type": "markdown",
      "metadata": {
        "id": "s9D22jJQr0mr"
      },
      "source": [
        "Next we are going to connect to our **Keyword Spotting - Demo** Project. Run the following cell to connect to the proejct using the python client. "
      ]
    },
    {
      "cell_type": "code",
      "metadata": {
        "id": "4SKYKeIkr6SD"
      },
      "source": [
        "dsk = SensiML()\n"
      ],
      "execution_count": null,
      "outputs": []
    },
    {
      "cell_type": "code",
      "metadata": {
        "id": "RX7WCDMNK4g4"
      },
      "source": [
        "dsk.project =  <Youre Project Name>"
      ],
      "execution_count": null,
      "outputs": []
    },
    {
      "cell_type": "markdown",
      "metadata": {
        "id": "NbsKPtKQrucZ"
      },
      "source": [
        "### Data Exploration\n",
        "\n",
        "Lets look at the summary of the data. If you are on the free tiral, there is already created a Query for this project, othewrise you can build and create queries in the [SensiML Analytic Studio](https://app.sensiml.cloud). Queries describe the data that will go into the pipeline. Run the following cells to see the names of the queries in the project along with a visualization that summarizes for each class the number of labeled events in the project."
      ]
    },
    {
      "cell_type": "code",
      "metadata": {
        "id": "Kkj5iYjar-nN",
        "colab": {
          "base_uri": "https://localhost:8080/",
          "height": 78
        },
        "outputId": "49271023-9515-4a48-a3bb-757cb8d930ae"
      },
      "source": [
        "dsk.list_queries()"
      ],
      "execution_count": 8,
      "outputs": [
        {
          "output_type": "execute_result",
          "data": {
            "text/html": [
              "<div>\n",
              "<style scoped>\n",
              "    .dataframe tbody tr th:only-of-type {\n",
              "        vertical-align: middle;\n",
              "    }\n",
              "\n",
              "    .dataframe tbody tr th {\n",
              "        vertical-align: top;\n",
              "    }\n",
              "\n",
              "    .dataframe thead th {\n",
              "        text-align: right;\n",
              "    }\n",
              "</style>\n",
              "<table border=\"1\" class=\"dataframe\">\n",
              "  <thead>\n",
              "    <tr style=\"text-align: right;\">\n",
              "      <th></th>\n",
              "      <th>Name</th>\n",
              "      <th>Created</th>\n",
              "      <th>UUID</th>\n",
              "    </tr>\n",
              "  </thead>\n",
              "  <tbody>\n",
              "    <tr>\n",
              "      <th>0</th>\n",
              "      <td>Q1</td>\n",
              "      <td>2020-03-06 19:35:59</td>\n",
              "      <td>bd8df215-003a-41be-90b0-e845dded87df</td>\n",
              "    </tr>\n",
              "  </tbody>\n",
              "</table>\n",
              "</div>"
            ],
            "text/plain": [
              "  Name             Created                                  UUID\n",
              "0   Q1 2020-03-06 19:35:59  bd8df215-003a-41be-90b0-e845dded87df"
            ]
          },
          "metadata": {
            "tags": []
          },
          "execution_count": 8
        }
      ]
    },
    {
      "cell_type": "markdown",
      "metadata": {
        "id": "GzcU8vESsIMV"
      },
      "source": [
        "### Pipelines\n",
        "\n",
        "Pipelines are a key component of the SensiML workflow. Pipelines store the preprocessing, feature extraction and model building steps. When training a model, these steps are executed on the SensiML server. Once the model has been trained, the pipeline is converted to firmware code that will run on your target embedded device. For more documentation on pipelines see the advanced model building [tutorial](https://sensiml.com/documentation/advanced-model-building/advanced-model-building.html). To create a new empty pipeline, run the cell below."
      ]
    },
    {
      "cell_type": "code",
      "metadata": {
        "id": "qdoxoC0PQXaC",
        "colab": {
          "base_uri": "https://localhost:8080/"
        },
        "outputId": "c63e35ad-ce54-4836-abd1-34d64f90f5ff"
      },
      "source": [
        "dsk.pipeline = <Your Pipeline name>"
      ],
      "execution_count": 9,
      "outputs": [
        {
          "output_type": "stream",
          "text": [
            "Sandbox test does not exist, creating a new sandbox.\n"
          ],
          "name": "stdout"
        }
      ]
    },
    {
      "cell_type": "markdown",
      "metadata": {
        "id": "A70YKhVIsTR7"
      },
      "source": [
        "If a pipeline with that name does not exist, a new one will be created on the server. Otherwise it will connect to a previously created pipeline.\n",
        "\n",
        "Now we are going to add our preprocessing steps to the pipeline, for a detailed description of the features available in a pipeline see the documentation [here](https://sensiml.com/documentation/pipeline-functions/overview.html). You can also list the functions by running ```dsk.list_functions(qgrid=False, functype=\"Feature Generator\")```"
      ]
    },
    {
      "cell_type": "markdown",
      "metadata": {
        "id": "iHLjlS_3IxRz"
      },
      "source": [
        "### Creating a Query"
      ]
    },
    {
      "cell_type": "code",
      "metadata": {
        "colab": {
          "base_uri": "https://localhost:8080/",
          "height": 108
        },
        "id": "qRIOwZ5dIf4Q",
        "outputId": "444acada-6d23-4e79-d20e-1b69240d0cf3"
      },
      "source": [
        "# Get the list of sessions/segmentation algorithms\n",
        "dsk.list_segmenters()"
      ],
      "execution_count": 18,
      "outputs": [
        {
          "output_type": "execute_result",
          "data": {
            "text/html": [
              "<div>\n",
              "<style scoped>\n",
              "    .dataframe tbody tr th:only-of-type {\n",
              "        vertical-align: middle;\n",
              "    }\n",
              "\n",
              "    .dataframe tbody tr th {\n",
              "        vertical-align: top;\n",
              "    }\n",
              "\n",
              "    .dataframe thead th {\n",
              "        text-align: right;\n",
              "    }\n",
              "</style>\n",
              "<table border=\"1\" class=\"dataframe\">\n",
              "  <thead>\n",
              "    <tr style=\"text-align: right;\">\n",
              "      <th></th>\n",
              "      <th>id</th>\n",
              "      <th>parent</th>\n",
              "      <th>name</th>\n",
              "      <th>function</th>\n",
              "      <th>parameters</th>\n",
              "      <th>custom</th>\n",
              "      <th>preprocess</th>\n",
              "      <th>created_at</th>\n",
              "      <th>last_modified</th>\n",
              "    </tr>\n",
              "  </thead>\n",
              "  <tbody>\n",
              "    <tr>\n",
              "      <th>0</th>\n",
              "      <td>2540</td>\n",
              "      <td>None</td>\n",
              "      <td>google</td>\n",
              "      <td>None</td>\n",
              "      <td>None</td>\n",
              "      <td>True</td>\n",
              "      <td>None</td>\n",
              "      <td>2020-03-03T06:00:17.168616Z</td>\n",
              "      <td>2020-03-03T06:00:17.168645Z</td>\n",
              "    </tr>\n",
              "    <tr>\n",
              "      <th>1</th>\n",
              "      <td>2545</td>\n",
              "      <td>None</td>\n",
              "      <td>AutoSegment</td>\n",
              "      <td>None</td>\n",
              "      <td>{\"inputs\":{\"input_data\":\"\",\"column_of_interest...</td>\n",
              "      <td>False</td>\n",
              "      <td>{}</td>\n",
              "      <td>2020-03-04T19:52:37.450643Z</td>\n",
              "      <td>2020-03-04T19:53:42.500910Z</td>\n",
              "    </tr>\n",
              "  </tbody>\n",
              "</table>\n",
              "</div>"
            ],
            "text/plain": [
              "     id parent  ...                   created_at                last_modified\n",
              "0  2540   None  ...  2020-03-03T06:00:17.168616Z  2020-03-03T06:00:17.168645Z\n",
              "1  2545   None  ...  2020-03-04T19:52:37.450643Z  2020-03-04T19:53:42.500910Z\n",
              "\n",
              "[2 rows x 9 columns]"
            ]
          },
          "metadata": {
            "tags": []
          },
          "execution_count": 18
        }
      ]
    },
    {
      "cell_type": "code",
      "metadata": {
        "id": "qVDsvm3dILjn"
      },
      "source": [
        "#create the query\n",
        "dsk.create_query(\n",
        "    \"Q1\",\n",
        "    label_column=\"Label\",\n",
        "    columns=[\n",
        "        \"Microphone\",\n",
        "    ],\n",
        "    metadata_columns=[\"Subject\", \"segment_uuid\"],\n",
        "    segmenter=\"AutoSegment\",\n",
        ")"
      ],
      "execution_count": null,
      "outputs": []
    },
    {
      "cell_type": "code",
      "metadata": {
        "colab": {
          "base_uri": "https://localhost:8080/",
          "height": 315
        },
        "id": "VX53A75aIoHu",
        "outputId": "6d6af329-7f08-4c96-be20-b23b3451c613"
      },
      "source": [
        "# see the number of segments in the query\n",
        "q = dsk.get_query(\"Q1\")\n",
        "q.statistics_segments().groupby('Label').size().plot(kind='bar')"
      ],
      "execution_count": 19,
      "outputs": [
        {
          "output_type": "execute_result",
          "data": {
            "text/plain": [
              "<matplotlib.axes._subplots.AxesSubplot at 0x7fef7c242050>"
            ]
          },
          "metadata": {
            "tags": []
          },
          "execution_count": 19
        },
        {
          "output_type": "display_data",
          "data": {
            "image/png": "[encoded data removed]",
            "text/plain": [
              "<Figure size 432x288 with 1 Axes>"
            ]
          },
          "metadata": {
            "tags": [],
            "needs_background": "light"
          }
        }
      ]
    },
    {
      "cell_type": "markdown",
      "metadata": {
        "id": "9i5tnXO-sVf2"
      },
      "source": [
        "\n",
        "### Assembling a pipeline \n",
        "\n",
        "The pipeline for this tutorial will consist of the following steps:\n",
        "\n",
        "1.   The **Input Query** which specifies what data is being fed into the model\n",
        "2.   The **Feature Generators** which specify which features should be extracted from the raw time series data\n",
        "3.   The **Feature Transform** which specify how to transform the features after extraction. In this case it is to scale them to 1 byte each\n",
        "4.   The **Feature Selector** which selects the best features. In this case we are using the custom feature selector to downsample the data. \n",
        "\n",
        "\n",
        "The code in the following cell sets our initial variables, then specifies each step in the pipeline. For now, you don't need to dig into each of these steps, but just know that the end result will be a feaure vector scaled to 1 byte values for each of the segments that were labeled in the Data Capture Lab. We will use these features as input to our tensorflow model."
      ]
    },
    {
      "cell_type": "code",
      "metadata": {
        "colab": {
          "base_uri": "https://localhost:8080/"
        },
        "id": "iaolQVs-JKUc",
        "outputId": "8b11206c-2476-41fb-9699-7815c2f4ad0a"
      },
      "source": [
        "dsk.project.columns()"
      ],
      "execution_count": 27,
      "outputs": [
        {
          "output_type": "execute_result",
          "data": {
            "text/plain": [
              "dict_keys(['Microphone'])"
            ]
          },
          "metadata": {
            "tags": []
          },
          "execution_count": 27
        }
      ]
    },
    {
      "cell_type": "code",
      "metadata": {
        "id": "vg3J1NdlSFQz"
      },
      "source": [
        "num_cols=12\n",
        "row_size=10\n",
        "\n",
        "dsk.pipeline.reset()\n",
        "dsk.pipeline.set_input_query(\"Q1\")\n",
        "\n",
        "dsk.pipeline.add_transform(\"Windowing\", params={\"window_size\": 400,\n",
        "                                                \"delta\": 400,\n",
        "                                                \"train_delta\": 0,\n",
        "                                                \"return_segment_index\": False,\n",
        "                                                })\n",
        "\n",
        "dsk.pipeline.add_feature_generator([{'name':'MFCC', 'params':{\"columns\": [\"Microphone\"],\n",
        "                                    \"sample_rate\": 16000,\n",
        "                                    \"cepstra_count\": num_cols,\n",
        "                                    }}])\n",
        "\n",
        "dsk.pipeline.add_transform(\"Feature Cascade\", params={\"num_cascades\": row_size ,\n",
        "                                \"slide\": True,\n",
        "                                })\n",
        "\n",
        "dsk.pipeline.add_transform(\"Min Max Scale\", params={\"min_bound\": 0,\n",
        "                                \"max_bound\": 255,\n",
        "                                \"pad\": 0,\n",
        "                                \"feature_min_max_defaults\":{'minimum':-500000, 'maximum':500000.0},\n",
        "                                })"
      ],
      "execution_count": 28,
      "outputs": []
    },
    {
      "cell_type": "markdown",
      "metadata": {
        "id": "mxTbqlgguO_b"
      },
      "source": [
        "To see the steps currently added to your pipeline you can use the describe method"
      ]
    },
    {
      "cell_type": "code",
      "metadata": {
        "id": "qErWtKxUuLoJ",
        "colab": {
          "base_uri": "https://localhost:8080/"
        },
        "outputId": "7cccf4ba-b316-4868-9eb3-b80b3b759213"
      },
      "source": [
        "dsk.pipeline.describe()"
      ],
      "execution_count": 29,
      "outputs": [
        {
          "output_type": "stream",
          "text": [
            "------------------------------------------------------------------------\n",
            " 0.     Name: Q1                        \t\tType: query                    \n",
            "------------------------------------------------------------------------\n",
            "------------------------------------------------------------------------\n",
            " 1.     Name: Windowing                 \t\tType: segmenter                \n",
            "------------------------------------------------------------------------\n",
            "\tgroup_columns: ['Label', 'Subject', 'segment_uuid']\n",
            "\twindow_size: 400\n",
            "\tdelta: 400\n",
            "\ttrain_delta: 0\n",
            "\treturn_segment_index: False\n",
            "------------------------------------------------------------------------\n",
            " 2.     Name: generator_set             \t\tType: generatorset             \n",
            "------------------------------------------------------------------------\n",
            "\t 0. Name: MFCC                     \n",
            "\tgroup_columns: ['Label', 'SegmentID', 'Subject', 'segment_uuid']\n",
            "------------------------------------------------------------------------\n",
            " 3.     Name: Feature Cascade           \t\tType: transform                \n",
            "------------------------------------------------------------------------\n",
            "\tgroup_columns: ['Label', 'SegmentID', 'Subject', 'segment_uuid']\n",
            "\tnum_cascades: 10\n",
            "\tslide: True\n",
            "------------------------------------------------------------------------\n",
            " 4.     Name: Min Max Scale             \t\tType: transform                \n",
            "------------------------------------------------------------------------\n",
            "\tpassthrough_columns: ['CascadeID', 'Label', 'SegmentID', 'Subject', 'segment_uuid']\n",
            "\tmin_bound: 0\n",
            "\tmax_bound: 255\n",
            "\tpad: 0\n",
            "\tfeature_min_max_parameters: {}\n",
            "\tfeature_min_max_defaults: {'minimum': -500000, 'maximum': 500000.0}\n",
            "------------------------------------------------------------------------\n",
            "\n"
          ],
          "name": "stdout"
        }
      ]
    },
    {
      "cell_type": "markdown",
      "metadata": {
        "id": "bXLiev6csdcZ"
      },
      "source": [
        "### Executing a Pipeline\n",
        "\n",
        "At this point the pipeline has not been executed yet, we are just assemebling the steps. To run the pipeline, execute the following cell. This will print out a summary of the pipeline steps that are being run followed by the status of the pipeline execution on the server.\n",
        "\n",
        "Once the pipeline is finished running, the results will be stored in the variable *fv_t*. A summary of the execution is stored in the *s_t* variable. \n",
        "\n",
        "\n",
        "The pipeline will report status updates tell youing which step is currently running, how many batches (parallel steps) have been run and how many steps are left. This process is asyncrhonous, so if you get disconnected you can run the dsk.pipeline.get_results() to check the status of your pipeline.\n",
        "\n",
        "Another thing to note is that intermediate steps are cached. you can retrieve data from intermediate steps by using dsk.pipeline.data(<index_of_step>). If you make any changes to your pipeline, only steps after the change will need to rerun.\n"
      ]
    },
    {
      "cell_type": "code",
      "metadata": {
        "id": "F1IBGufgKFJl",
        "colab": {
          "base_uri": "https://localhost:8080/"
        },
        "outputId": "53706bde-bae2-4c21-b949-f08d25b86a95"
      },
      "source": [
        "fv_s, s= dsk.pipeline.execute()"
      ],
      "execution_count": 31,
      "outputs": [
        {
          "output_type": "stream",
          "text": [
            "Executing Pipeline with Steps:\n",
            "\n",
            "------------------------------------------------------------------------\n",
            " 0.     Name: Q1                        \t\tType: query                    \n",
            "------------------------------------------------------------------------\n",
            "------------------------------------------------------------------------\n",
            " 1.     Name: Windowing                 \t\tType: segmenter                \n",
            "------------------------------------------------------------------------\n",
            "------------------------------------------------------------------------\n",
            " 2.     Name: generator_set             \t\tType: generatorset             \n",
            "------------------------------------------------------------------------\n",
            "------------------------------------------------------------------------\n",
            " 3.     Name: Feature Cascade           \t\tType: transform                \n",
            "------------------------------------------------------------------------\n",
            "------------------------------------------------------------------------\n",
            " 4.     Name: Min Max Scale             \t\tType: transform                \n",
            "------------------------------------------------------------------------\n",
            "------------------------------------------------------------------------\n",
            "\n"
          ],
          "name": "stdout"
        },
        {
          "output_type": "stream",
          "text": [
            "FeatureGenerationError: MFCC threw an exception so it was dropped ('channel0')\n"
          ],
          "name": "stderr"
        },
        {
          "output_type": "stream",
          "text": [
            "\n",
            "\n",
            "Results Retrieved... Execution Time: 0 min. 0 sec.\n"
          ],
          "name": "stdout"
        }
      ]
    },
    {
      "cell_type": "markdown",
      "metadata": {
        "id": "I7-lm1z6sqDv"
      },
      "source": [
        "## SensiML Features and Tensorflow Model\n",
        "\n",
        "Now we have our features for this model, we will go ahead and train a Tensorflow Model in the colab enviornment. We will start by splitting our dataset into train, test and validate groups. The python client has a built-in function for performing this split. You can also pass in the validation data test sizes. By default, they are set to 10% each."
      ]
    },
    {
      "cell_type": "code",
      "metadata": {
        "id": "s5OJ9DTVSPbz",
        "colab": {
          "base_uri": "https://localhost:8080/"
        },
        "outputId": "301ab1ce-cc14-4d2e-a38c-a5704faf4f4e"
      },
      "source": [
        "\n",
        "\n",
        "x_train, x_validate, x_test, y_train, y_validate, y_test,  class_map = \\\n",
        "    dsk.pipeline.features_to_tensor(fv_s, test=.1, validate=.1)"
      ],
      "execution_count": 32,
      "outputs": [
        {
          "output_type": "stream",
          "text": [
            "-----  Summary  -----\n",
            "Class Map: {'noise': 0, 'off': 1, 'on': 2}\n",
            "Train:\n",
            " total:  359\n",
            " by class: [  2. 185. 172.]\n",
            "Validate:\n",
            " total:  46\n",
            " by class: [ 1. 23. 22.]\n",
            "Train:\n",
            " total:  44\n",
            " by class: [ 0. 23. 21.]\n"
          ],
          "name": "stdout"
        }
      ]
    },
    {
      "cell_type": "markdown",
      "metadata": {
        "id": "xtp0HjuLss-B"
      },
      "source": [
        "### Feature Visualization\n",
        "Lets take a quick look at the features that we have created. Run the following cell to see the heatmap (left) along with the raw features (right).  To switch which event you are looking at change the event_index."
      ]
    },
    {
      "cell_type": "code",
      "metadata": {
        "id": "MuNnS2Y_GgI-",
        "colab": {
          "base_uri": "https://localhost:8080/",
          "height": 283
        },
        "outputId": "f8944625-2f84-4894-b28e-ccb496ebe478"
      },
      "source": [
        "import seaborn as sn\n",
        "event_index=50\n",
        "sn.heatmap(x_train[event_index].reshape(row_size,-1).T)"
      ],
      "execution_count": 34,
      "outputs": [
        {
          "output_type": "execute_result",
          "data": {
            "text/plain": [
              "<matplotlib.axes._subplots.AxesSubplot at 0x7fef73c7f190>"
            ]
          },
          "metadata": {
            "tags": []
          },
          "execution_count": 34
        },
        {
          "output_type": "display_data",
          "data": {
            "image/png": "[encoded data removed]",
            "text/plain": [
              "<Figure size 432x288 with 2 Axes>"
            ]
          },
          "metadata": {
            "tags": [],
            "needs_background": "light"
          }
        }
      ]
    },
    {
      "cell_type": "markdown",
      "metadata": {
        "id": "I7PGOlc1s0Yd"
      },
      "source": [
        "### Data Augmentation\n",
        "\n",
        "It is often useful to perform data augmentation to make models more robust to unseen data. One data augmentation strategy is to apply masks in the feature space. For this tutorial, we will add masks randomly across time and sensors. To implement the masking in tensorflow we use the tf.data API. The steps in the following cell are described by:\n",
        "\n",
        "1.   Specify variables which describe the properites of our masking\n",
        "2.   Convert our training dataset that is currently a dataframe into a tf.data bject\n",
        "3.   Add a noise layer which randomly adds noise to the features.\n",
        "4.   Apply a time mask will randomly mask up to rand_max time slices.\n",
        "5.   Apply a sensor mask which will randomly mask up to rand_max sensors\n",
        "6.   Apply a shuffler which will randomize our dataset after each training iteraion.\n",
        "\n",
        "For more information about the tf.data.DataSet see the documentation [here](https://www.tensorflow.org/guide/data)"
      ]
    },
    {
      "cell_type": "code",
      "metadata": {
        "id": "4kNcQ9ie87zX"
      },
      "source": [
        "rand_max = 1\n",
        "min_noise=-10\n",
        "max_noise=10\n",
        "mask_value=127\n",
        "batch_size =32\n",
        "\n",
        "data  = tf.data.Dataset.from_tensor_slices((x_train, y_train))\n",
        "noise_ds = data.map(lambda image, label: sml_tf.add_image_noise(image, label, rand_max, min_noise, max_noise))\n",
        "freq_ds = noise_ds.map(lambda image, label: sml_tf.mask_image_row(image, label, rand_max, num_cols, mask_value))\n",
        "masked_ds = freq_ds.map(lambda image, label: sml_tf.mask_image_column(image, label, row_size, rand_max, num_cols, mask_value))\n",
        "\n",
        "\n",
        "# Augmented Data\n",
        "shuffle_aug = masked_ds.shuffle(buffer_size=x_train.shape[0], reshuffle_each_iteration=True).batch(batch_size)\n",
        "\n",
        "# Shuffled Data\n",
        "shuffle_ds = data.shuffle(buffer_size=x_train.shape[0], reshuffle_each_iteration=True).batch(batch_size)"
      ],
      "execution_count": 36,
      "outputs": []
    },
    {
      "cell_type": "markdown",
      "metadata": {
        "id": "l0nPxn6fs3p3"
      },
      "source": [
        "To visualize the tf data you can use this helper function, switch the idnex to look at differtn feature maps."
      ]
    },
    {
      "cell_type": "code",
      "metadata": {
        "id": "I4Q5cxE8GSDH",
        "colab": {
          "base_uri": "https://localhost:8080/",
          "height": 281
        },
        "outputId": "2d70cd51-6763-4fd8-9523-a8c4fb0e7da3"
      },
      "source": [
        "sml_tf.visualize_tf_data(masked_ds, index=7, row_size=row_size, num_cols=num_cols)"
      ],
      "execution_count": 37,
      "outputs": [
        {
          "output_type": "display_data",
          "data": {
            "image/png": "[encoded data removed]",
            "text/plain": [
              "<Figure size 864x288 with 2 Axes>"
            ]
          },
          "metadata": {
            "tags": [],
            "needs_background": "light"
          }
        }
      ]
    },
    {
      "cell_type": "markdown",
      "metadata": {
        "id": "1Q_5CRXys5sP"
      },
      "source": [
        "### Specifying the Tensorflow Model\n",
        "\n",
        "The Next step is to define what our tensorflow model looks like. For this tutorial we are going to use the Tensorflow Keras API to create a [Convolution Neural Network](https://en.wikipedia.org/wiki/Convolutional_neural_network) (CNN). When you are building a model to deploy on a microcontroller, it is important to remember that all functions of tensorflow are not suitable for a micro controller. Additionally, only a subset of Tensorflow functions are availible as part of Tensorflow Lite Micro. For a full list of available functions see the [all_ops_resolver.cc](https://github.com/tensorflow/tensorflow/blob/master/tensorflow/lite/micro/kernels/all_ops_resolver.cc). \n",
        "\n",
        "For this tutorial use a 1D convolution followed by a 2D convolution and finaly a fully connected layer to efficiently classify the boxing gestures. Our aim is to limit the number and size of every layer in the model to only those necessary to get our desired accuracy. Often you will find that you need to make a trade off between latency/memory usage and accuracy in order to get a model that will work well on your microcontroller.\n"
      ]
    },
    {
      "cell_type": "code",
      "metadata": {
        "id": "Gyn9FdTmSQzQ",
        "colab": {
          "base_uri": "https://localhost:8080/"
        },
        "outputId": "d23608b9-2cf9-4626-8fa3-b8858f13c577"
      },
      "source": [
        "optimization_metric = \"accuracy\"\n",
        "# We'll use Keras to create a simple model architecture\n",
        "from tensorflow.keras import layers\n",
        "import tensorflow as tf\n",
        "\n",
        "tf_model = tf.keras.Sequential()\n",
        "tf_model.add(layers.Reshape((10, 12, 1), input_shape=(120,)))\n",
        "tf_model.add(layers.Conv2D(32, (2, 6), padding=\"valid\", activation=\"relu\",  strides=[2,2]))\n",
        "tf_model.add(layers.MaxPool2D((2, 2)))\n",
        "tf_model.add(layers.Dropout(0.1))\n",
        "tf_model.add(layers.Conv2D(16, (2, 2), padding=\"valid\", activation=\"relu\"))\n",
        "#tf_model.add(layers.Dropout(0.1))\n",
        "#print(tf_model.summary())\n",
        "#tf_model.add(layers.MaxPool2D((1, 2), padding=\"valid\"))\n",
        "tf_model.add(layers.Flatten())\n",
        "# Final layer is a single neuron, since we want to output a single value\n",
        "tf_model.add(layers.Dense(18, activation='relu', ))\n",
        "tf_model.add(layers.Dense(len(class_map.keys()), activation='sigmoid'))\n",
        "# Compile the model using a standard optimizer and loss function for regression\n",
        "tf_model.compile(optimizer='Adam', loss='categorical_crossentropy', metrics=[optimization_metric])\n",
        "tf_model.summary()\n",
        "\n",
        "train_history = {'loss':[], 'val_loss':[], 'accuracy':[], 'val_accuracy':[]}"
      ],
      "execution_count": 41,
      "outputs": [
        {
          "output_type": "stream",
          "text": [
            "Model: \"sequential_1\"\n",
            "_________________________________________________________________\n",
            "Layer (type)                 Output Shape              Param #   \n",
            "=================================================================\n",
            "reshape_1 (Reshape)          (None, 10, 12, 1)         0         \n",
            "_________________________________________________________________\n",
            "conv2d_2 (Conv2D)            (None, 5, 4, 32)          416       \n",
            "_________________________________________________________________\n",
            "max_pooling2d_1 (MaxPooling2 (None, 2, 2, 32)          0         \n",
            "_________________________________________________________________\n",
            "dropout_1 (Dropout)          (None, 2, 2, 32)          0         \n",
            "_________________________________________________________________\n",
            "conv2d_3 (Conv2D)            (None, 1, 1, 16)          2064      \n",
            "_________________________________________________________________\n",
            "flatten_1 (Flatten)          (None, 16)                0         \n",
            "_________________________________________________________________\n",
            "dense_2 (Dense)              (None, 18)                306       \n",
            "_________________________________________________________________\n",
            "dense_3 (Dense)              (None, 3)                 57        \n",
            "=================================================================\n",
            "Total params: 2,843\n",
            "Trainable params: 2,843\n",
            "Non-trainable params: 0\n",
            "_________________________________________________________________\n"
          ],
          "name": "stdout"
        }
      ]
    },
    {
      "cell_type": "markdown",
      "metadata": {
        "id": "RR3rjeKZtC7H"
      },
      "source": [
        "### Training the Tensorflow Model\n",
        "\n",
        "After defining the model graph, it is time to train the model. Training a NN consists of iterating through batches of your traning dataset multiple times, each time it loops through the entire training set is called an epoch. For each batch of data, the loss function is computed and the weights of the layers in the network are adjusted.  \n",
        "\n",
        "The following cell will loop through the training data num_iterations of times. Each time running a specific number of epochs. After each iteration, the visualizations for the loss, accuracy and confusion matrix will be updated for both the validation and training data sets. You can use this to see how the model is progressing. \n",
        "\n",
        "Sometimes the intialization of the model gets stuck in a bad state, we put a check in that will call reset_weights to reinitialize the network weights if the model is stuck in a low accuracy state. Other methods could be to adjust the learning rate. If your reaches the desired accruacy before the training completes, hit the stop button at the left side of the cell and you can continue the tutorial with the model at its current state. "
      ]
    },
    {
      "cell_type": "code",
      "metadata": {
        "id": "VxAMIhbNSVxK",
        "colab": {
          "base_uri": "https://localhost:8080/",
          "height": 999
        },
        "outputId": "56438391-b96e-4a34-f29a-132d0dfb89ca"
      },
      "source": [
        "from IPython.display import clear_output\n",
        "\n",
        "num_iterations=10\n",
        "for i in range(num_iterations):\n",
        "    history = tf_model.fit( shuffle_aug, #shuffle_ds\n",
        "                              epochs=50,\n",
        "                              batch_size=batch_size, \n",
        "                              validation_data=(x_validate, y_validate),\n",
        "                              verbose=0)\n",
        "    clear_output()    \n",
        "\n",
        "    for key in train_history:\n",
        "        train_history[key].extend(history.history[key])\n",
        "\n",
        "    sml_tf.plot_training_results(tf_model, train_history, x_train, y_train, x_validate, y_validate)\n",
        "\n",
        "    if train_history['accuracy'][-1] <= .3 and train_history['accuracy'][-25] <= (train_history['accuracy'][-1]+5):\n",
        "        print('reinitializing weights')\n",
        "        sml_tf.reset_weights(tf_model)\n",
        "        train_history = {'loss':[], 'val_loss':[], 'accuracy':[], 'val_accuracy':[]}"
      ],
      "execution_count": 42,
      "outputs": [
        {
          "output_type": "display_data",
          "data": {
            "image/png": "[encoded data removed]",
            "text/plain": [
              "<Figure size 2304x720 with 6 Axes>"
            ]
          },
          "metadata": {
            "tags": [],
            "needs_background": "light"
          }
        },
        {
          "output_type": "error",
          "ename": "KeyboardInterrupt",
          "evalue": "ignored",
          "traceback": [
            "\u001b[0;31m---------------------------------------------------------------------------\u001b[0m",
            "\u001b[0;31mKeyboardInterrupt\u001b[0m                         Traceback (most recent call last)",
            "\u001b[0;32m<ipython-input-42-fe806fdaeb30>\u001b[0m in \u001b[0;36m<module>\u001b[0;34m()\u001b[0m\n\u001b[1;32m      7\u001b[0m                               \u001b[0mbatch_size\u001b[0m\u001b[0;34m=\u001b[0m\u001b[0mbatch_size\u001b[0m\u001b[0;34m,\u001b[0m\u001b[0;34m\u001b[0m\u001b[0;34m\u001b[0m\u001b[0m\n\u001b[1;32m      8\u001b[0m                               \u001b[0mvalidation_data\u001b[0m\u001b[0;34m=\u001b[0m\u001b[0;34m(\u001b[0m\u001b[0mx_validate\u001b[0m\u001b[0;34m,\u001b[0m \u001b[0my_validate\u001b[0m\u001b[0;34m)\u001b[0m\u001b[0;34m,\u001b[0m\u001b[0;34m\u001b[0m\u001b[0;34m\u001b[0m\u001b[0m\n\u001b[0;32m----> 9\u001b[0;31m                               verbose=0)\n\u001b[0m\u001b[1;32m     10\u001b[0m     \u001b[0mclear_output\u001b[0m\u001b[0;34m(\u001b[0m\u001b[0;34m)\u001b[0m\u001b[0;34m\u001b[0m\u001b[0;34m\u001b[0m\u001b[0m\n\u001b[1;32m     11\u001b[0m \u001b[0;34m\u001b[0m\u001b[0m\n",
            "\u001b[0;32m/usr/local/lib/python3.7/dist-packages/tensorflow/python/keras/engine/training.py\u001b[0m in \u001b[0;36mfit\u001b[0;34m(self, x, y, batch_size, epochs, verbose, callbacks, validation_split, validation_data, shuffle, class_weight, sample_weight, initial_epoch, steps_per_epoch, validation_steps, validation_batch_size, validation_freq, max_queue_size, workers, use_multiprocessing)\u001b[0m\n\u001b[1;32m   1098\u001b[0m                 _r=1):\n\u001b[1;32m   1099\u001b[0m               \u001b[0mcallbacks\u001b[0m\u001b[0;34m.\u001b[0m\u001b[0mon_train_batch_begin\u001b[0m\u001b[0;34m(\u001b[0m\u001b[0mstep\u001b[0m\u001b[0;34m)\u001b[0m\u001b[0;34m\u001b[0m\u001b[0;34m\u001b[0m\u001b[0m\n\u001b[0;32m-> 1100\u001b[0;31m               \u001b[0mtmp_logs\u001b[0m \u001b[0;34m=\u001b[0m \u001b[0mself\u001b[0m\u001b[0;34m.\u001b[0m\u001b[0mtrain_function\u001b[0m\u001b[0;34m(\u001b[0m\u001b[0miterator\u001b[0m\u001b[0;34m)\u001b[0m\u001b[0;34m\u001b[0m\u001b[0;34m\u001b[0m\u001b[0m\n\u001b[0m\u001b[1;32m   1101\u001b[0m               \u001b[0;32mif\u001b[0m \u001b[0mdata_handler\u001b[0m\u001b[0;34m.\u001b[0m\u001b[0mshould_sync\u001b[0m\u001b[0;34m:\u001b[0m\u001b[0;34m\u001b[0m\u001b[0;34m\u001b[0m\u001b[0m\n\u001b[1;32m   1102\u001b[0m                 \u001b[0mcontext\u001b[0m\u001b[0;34m.\u001b[0m\u001b[0masync_wait\u001b[0m\u001b[0;34m(\u001b[0m\u001b[0;34m)\u001b[0m\u001b[0;34m\u001b[0m\u001b[0;34m\u001b[0m\u001b[0m\n",
            "\u001b[0;32m/usr/local/lib/python3.7/dist-packages/tensorflow/python/eager/def_function.py\u001b[0m in \u001b[0;36m__call__\u001b[0;34m(self, *args, **kwds)\u001b[0m\n\u001b[1;32m    826\u001b[0m     \u001b[0mtracing_count\u001b[0m \u001b[0;34m=\u001b[0m \u001b[0mself\u001b[0m\u001b[0;34m.\u001b[0m\u001b[0mexperimental_get_tracing_count\u001b[0m\u001b[0;34m(\u001b[0m\u001b[0;34m)\u001b[0m\u001b[0;34m\u001b[0m\u001b[0;34m\u001b[0m\u001b[0m\n\u001b[1;32m    827\u001b[0m     \u001b[0;32mwith\u001b[0m \u001b[0mtrace\u001b[0m\u001b[0;34m.\u001b[0m\u001b[0mTrace\u001b[0m\u001b[0;34m(\u001b[0m\u001b[0mself\u001b[0m\u001b[0;34m.\u001b[0m\u001b[0m_name\u001b[0m\u001b[0;34m)\u001b[0m \u001b[0;32mas\u001b[0m \u001b[0mtm\u001b[0m\u001b[0;34m:\u001b[0m\u001b[0;34m\u001b[0m\u001b[0;34m\u001b[0m\u001b[0m\n\u001b[0;32m--> 828\u001b[0;31m       \u001b[0mresult\u001b[0m \u001b[0;34m=\u001b[0m \u001b[0mself\u001b[0m\u001b[0;34m.\u001b[0m\u001b[0m_call\u001b[0m\u001b[0;34m(\u001b[0m\u001b[0;34m*\u001b[0m\u001b[0margs\u001b[0m\u001b[0;34m,\u001b[0m \u001b[0;34m**\u001b[0m\u001b[0mkwds\u001b[0m\u001b[0;34m)\u001b[0m\u001b[0;34m\u001b[0m\u001b[0;34m\u001b[0m\u001b[0m\n\u001b[0m\u001b[1;32m    829\u001b[0m       \u001b[0mcompiler\u001b[0m \u001b[0;34m=\u001b[0m \u001b[0;34m\"xla\"\u001b[0m \u001b[0;32mif\u001b[0m \u001b[0mself\u001b[0m\u001b[0;34m.\u001b[0m\u001b[0m_experimental_compile\u001b[0m \u001b[0;32melse\u001b[0m \u001b[0;34m\"nonXla\"\u001b[0m\u001b[0;34m\u001b[0m\u001b[0;34m\u001b[0m\u001b[0m\n\u001b[1;32m    830\u001b[0m       \u001b[0mnew_tracing_count\u001b[0m \u001b[0;34m=\u001b[0m \u001b[0mself\u001b[0m\u001b[0;34m.\u001b[0m\u001b[0mexperimental_get_tracing_count\u001b[0m\u001b[0;34m(\u001b[0m\u001b[0;34m)\u001b[0m\u001b[0;34m\u001b[0m\u001b[0;34m\u001b[0m\u001b[0m\n",
            "\u001b[0;32m/usr/local/lib/python3.7/dist-packages/tensorflow/python/eager/def_function.py\u001b[0m in \u001b[0;36m_call\u001b[0;34m(self, *args, **kwds)\u001b[0m\n\u001b[1;32m    853\u001b[0m       \u001b[0;31m# In this case we have created variables on the first call, so we run the\u001b[0m\u001b[0;34m\u001b[0m\u001b[0;34m\u001b[0m\u001b[0;34m\u001b[0m\u001b[0m\n\u001b[1;32m    854\u001b[0m       \u001b[0;31m# defunned version which is guaranteed to never create variables.\u001b[0m\u001b[0;34m\u001b[0m\u001b[0;34m\u001b[0m\u001b[0;34m\u001b[0m\u001b[0m\n\u001b[0;32m--> 855\u001b[0;31m       \u001b[0;32mreturn\u001b[0m \u001b[0mself\u001b[0m\u001b[0;34m.\u001b[0m\u001b[0m_stateless_fn\u001b[0m\u001b[0;34m(\u001b[0m\u001b[0;34m*\u001b[0m\u001b[0margs\u001b[0m\u001b[0;34m,\u001b[0m \u001b[0;34m**\u001b[0m\u001b[0mkwds\u001b[0m\u001b[0;34m)\u001b[0m  \u001b[0;31m# pylint: disable=not-callable\u001b[0m\u001b[0;34m\u001b[0m\u001b[0;34m\u001b[0m\u001b[0m\n\u001b[0m\u001b[1;32m    856\u001b[0m     \u001b[0;32melif\u001b[0m \u001b[0mself\u001b[0m\u001b[0;34m.\u001b[0m\u001b[0m_stateful_fn\u001b[0m \u001b[0;32mis\u001b[0m \u001b[0;32mnot\u001b[0m \u001b[0;32mNone\u001b[0m\u001b[0;34m:\u001b[0m\u001b[0;34m\u001b[0m\u001b[0;34m\u001b[0m\u001b[0m\n\u001b[1;32m    857\u001b[0m       \u001b[0;31m# Release the lock early so that multiple threads can perform the call\u001b[0m\u001b[0;34m\u001b[0m\u001b[0;34m\u001b[0m\u001b[0;34m\u001b[0m\u001b[0m\n",
            "\u001b[0;32m/usr/local/lib/python3.7/dist-packages/tensorflow/python/eager/function.py\u001b[0m in \u001b[0;36m__call__\u001b[0;34m(self, *args, **kwargs)\u001b[0m\n\u001b[1;32m   2941\u001b[0m        filtered_flat_args) = self._maybe_define_function(args, kwargs)\n\u001b[1;32m   2942\u001b[0m     return graph_function._call_flat(\n\u001b[0;32m-> 2943\u001b[0;31m         filtered_flat_args, captured_inputs=graph_function.captured_inputs)  # pylint: disable=protected-access\n\u001b[0m\u001b[1;32m   2944\u001b[0m \u001b[0;34m\u001b[0m\u001b[0m\n\u001b[1;32m   2945\u001b[0m   \u001b[0;34m@\u001b[0m\u001b[0mproperty\u001b[0m\u001b[0;34m\u001b[0m\u001b[0;34m\u001b[0m\u001b[0m\n",
            "\u001b[0;32m/usr/local/lib/python3.7/dist-packages/tensorflow/python/eager/function.py\u001b[0m in \u001b[0;36m_call_flat\u001b[0;34m(self, args, captured_inputs, cancellation_manager)\u001b[0m\n\u001b[1;32m   1917\u001b[0m       \u001b[0;31m# No tape is watching; skip to running the function.\u001b[0m\u001b[0;34m\u001b[0m\u001b[0;34m\u001b[0m\u001b[0;34m\u001b[0m\u001b[0m\n\u001b[1;32m   1918\u001b[0m       return self._build_call_outputs(self._inference_function.call(\n\u001b[0;32m-> 1919\u001b[0;31m           ctx, args, cancellation_manager=cancellation_manager))\n\u001b[0m\u001b[1;32m   1920\u001b[0m     forward_backward = self._select_forward_and_backward_functions(\n\u001b[1;32m   1921\u001b[0m         \u001b[0margs\u001b[0m\u001b[0;34m,\u001b[0m\u001b[0;34m\u001b[0m\u001b[0;34m\u001b[0m\u001b[0m\n",
            "\u001b[0;32m/usr/local/lib/python3.7/dist-packages/tensorflow/python/eager/function.py\u001b[0m in \u001b[0;36mcall\u001b[0;34m(self, ctx, args, cancellation_manager)\u001b[0m\n\u001b[1;32m    558\u001b[0m               \u001b[0minputs\u001b[0m\u001b[0;34m=\u001b[0m\u001b[0margs\u001b[0m\u001b[0;34m,\u001b[0m\u001b[0;34m\u001b[0m\u001b[0;34m\u001b[0m\u001b[0m\n\u001b[1;32m    559\u001b[0m               \u001b[0mattrs\u001b[0m\u001b[0;34m=\u001b[0m\u001b[0mattrs\u001b[0m\u001b[0;34m,\u001b[0m\u001b[0;34m\u001b[0m\u001b[0;34m\u001b[0m\u001b[0m\n\u001b[0;32m--> 560\u001b[0;31m               ctx=ctx)\n\u001b[0m\u001b[1;32m    561\u001b[0m         \u001b[0;32melse\u001b[0m\u001b[0;34m:\u001b[0m\u001b[0;34m\u001b[0m\u001b[0;34m\u001b[0m\u001b[0m\n\u001b[1;32m    562\u001b[0m           outputs = execute.execute_with_cancellation(\n",
            "\u001b[0;32m/usr/local/lib/python3.7/dist-packages/tensorflow/python/eager/execute.py\u001b[0m in \u001b[0;36mquick_execute\u001b[0;34m(op_name, num_outputs, inputs, attrs, ctx, name)\u001b[0m\n\u001b[1;32m     58\u001b[0m     \u001b[0mctx\u001b[0m\u001b[0;34m.\u001b[0m\u001b[0mensure_initialized\u001b[0m\u001b[0;34m(\u001b[0m\u001b[0;34m)\u001b[0m\u001b[0;34m\u001b[0m\u001b[0;34m\u001b[0m\u001b[0m\n\u001b[1;32m     59\u001b[0m     tensors = pywrap_tfe.TFE_Py_Execute(ctx._handle, device_name, op_name,\n\u001b[0;32m---> 60\u001b[0;31m                                         inputs, attrs, num_outputs)\n\u001b[0m\u001b[1;32m     61\u001b[0m   \u001b[0;32mexcept\u001b[0m \u001b[0mcore\u001b[0m\u001b[0;34m.\u001b[0m\u001b[0m_NotOkStatusException\u001b[0m \u001b[0;32mas\u001b[0m \u001b[0me\u001b[0m\u001b[0;34m:\u001b[0m\u001b[0;34m\u001b[0m\u001b[0;34m\u001b[0m\u001b[0m\n\u001b[1;32m     62\u001b[0m     \u001b[0;32mif\u001b[0m \u001b[0mname\u001b[0m \u001b[0;32mis\u001b[0m \u001b[0;32mnot\u001b[0m \u001b[0;32mNone\u001b[0m\u001b[0;34m:\u001b[0m\u001b[0;34m\u001b[0m\u001b[0;34m\u001b[0m\u001b[0m\n",
            "\u001b[0;31mKeyboardInterrupt\u001b[0m: "
          ]
        }
      ]
    },
    {
      "cell_type": "markdown",
      "metadata": {
        "id": "5DNI0IlzSoBF"
      },
      "source": [
        "### Qunatize the Tensorflow Model\n",
        "\n",
        "Now that you have trained a neural network with tensorflow, we are going to use the built-in tools to quantize it. Quantization of NN allows use to reduce the model size by up to 4x by converting the network weights from 4-byte floating point values to 1-byte uint8. This can be done without sacrificing much in terms of accuracy. The best way to perform quantization is still an active area of research. For this tutorial, we will use the built-in methods that are provided as part of Tensorflow. \n",
        "\n",
        "*   The ```representative_dataset_generator()``` function is necessary to provide statistical information about your dataset ino order to quantize the model weights appropriatley. \n",
        "*   The TFLiteConverter is used to convert a tensorflow model into a tensor flow lite model. The tensorflow lite model is stored as a [flatbuffer](https://google.github.io/flatbuffers/) which allows us to easily store and access it on embedded systems."
      ]
    },
    {
      "cell_type": "code",
      "metadata": {
        "id": "mrzypWkwbDlZ",
        "colab": {
          "base_uri": "https://localhost:8080/"
        },
        "outputId": "95753430-23b0-4b43-8435-e03c835d7654"
      },
      "source": [
        "def representative_dataset_generator():  \n",
        "  for value in x_test:   \n",
        "  # Each scalar value must be inside of a 2D array that is wrapped in a list    \n",
        "    yield [np.array(value, dtype=np.float32, ndmin=2)]\n",
        "\n",
        "# Unquantized Model\n",
        "converter = tf.lite.TFLiteConverter.from_keras_model(tf_model)\n",
        "tflite_model_full = converter.convert()\n",
        "print(\"Full Model Size\", len(tflite_model_full))\n",
        "\n",
        "# Quantized Model\n",
        "converter = tf.lite.TFLiteConverter.from_keras_model(tf_model)\n",
        "converter.optimizations = [tf.lite.Optimize.OPTIMIZE_FOR_SIZE]\n",
        "converter.experimental_new_converter = False\n",
        "converter.representative_dataset = representative_dataset_generator\n",
        "tflite_model_quant = converter.convert()\n",
        "\n",
        "print(\"Quantized Model Size\", len(tflite_model_quant))"
      ],
      "execution_count": 55,
      "outputs": [
        {
          "output_type": "stream",
          "text": [
            "INFO:tensorflow:Assets written to: /tmp/tmpmucsuvlw/assets\n"
          ],
          "name": "stdout"
        },
        {
          "output_type": "stream",
          "text": [
            "INFO:tensorflow:Assets written to: /tmp/tmpmucsuvlw/assets\n"
          ],
          "name": "stderr"
        },
        {
          "output_type": "stream",
          "text": [
            "Full Model Size 15484\n",
            "INFO:tensorflow:Assets written to: /tmp/tmp0cwnc5_1/assets\n"
          ],
          "name": "stdout"
        },
        {
          "output_type": "stream",
          "text": [
            "INFO:tensorflow:Assets written to: /tmp/tmp0cwnc5_1/assets\n",
            "WARNING:absl:Please consider switching to the new converter by setting experimental_new_converter=True. The old converter (TOCO) is deprecated.\n"
          ],
          "name": "stderr"
        },
        {
          "output_type": "stream",
          "text": [
            "Quantized Model Size 8304\n"
          ],
          "name": "stdout"
        }
      ]
    },
    {
      "cell_type": "markdown",
      "metadata": {
        "id": "NsHN50BLAbn0"
      },
      "source": [
        "As you can see thethe Quantized model is significantly smaller than the unquantized model. An additional benifit of quantizing the model is that tensorflow lite micro is able to take advantage of specialized instructions on cortex M chips using the [cmsis-nn](http://www.keil.com/pack/doc/cmsis/NN/html/index.html) DSP library which gives another huge boost in performance. For more information on tensorflow lite for microcontrollers you can check out the execellent [tinyml](https://www.oreilly.com/library/view/tinyml/9781492052036/) book by Pete Warden."
      ]
    },
    {
      "cell_type": "markdown",
      "metadata": {
        "id": "UTV_LGyZtJAz"
      },
      "source": [
        "Now that you have trained your model, its time to upload it as the final step in your pipeline. From here you will be able to test the entire pipeline against test data as well as download the firmware which can be flashed to run locally on your embedded device. To do this we will use the **Load Model TF Micro** function. We will convert the tflite model to and upload it to the SensiML Cloud server. \n",
        "\n",
        "*Note: An additional parameter that can specified here is the threshold. We set it to .2 in this examples. Any classification with a value less than the threshold will be returned as 0 which is reserved for an **unknown** classification.*"
      ]
    },
    {
      "cell_type": "code",
      "metadata": {
        "id": "wMonr9XySkR-",
        "colab": {
          "base_uri": "https://localhost:8080/"
        },
        "outputId": "49ffaad4-692c-4af5-ec10-5b1ea2d6b69b"
      },
      "source": [
        "class_map_tmp = {k:v+1 for k,v in class_map.items()} #increment by 1 as 0 corresponds to unknown\n",
        "\n",
        "dsk.pipeline.set_training_algorithm(\"Load Model TF Micro\",\n",
        "                                    params={\"model_parameters\": {'tflite': sml_tf.convert_tf_lite(tflite_model_quant)},\n",
        "                                            \"class_map\": class_map_tmp,\n",
        "                                            \"estimator_type\": \"classification\",\n",
        "                                            \"threshold\": 0.9, # must be above this value otherwise is unknown\n",
        "                                            })\n",
        "\n",
        "dsk.pipeline.set_validation_method(\"Recall\", params={})\n",
        "\n",
        "dsk.pipeline.set_classifier(\"TF Micro\", params={})\n",
        "\n",
        "dsk.pipeline.set_tvo()\n",
        "\n",
        "results, stats = dsk.pipeline.execute()"
      ],
      "execution_count": 71,
      "outputs": [
        {
          "output_type": "stream",
          "text": [
            "Executing Pipeline with Steps:\n",
            "\n",
            "------------------------------------------------------------------------\n",
            " 0.     Name: Q1                        \t\tType: query                    \n",
            "------------------------------------------------------------------------\n",
            "------------------------------------------------------------------------\n",
            " 1.     Name: Windowing                 \t\tType: segmenter                \n",
            "------------------------------------------------------------------------\n",
            "------------------------------------------------------------------------\n",
            " 2.     Name: generator_set             \t\tType: generatorset             \n",
            "------------------------------------------------------------------------\n",
            "------------------------------------------------------------------------\n",
            " 3.     Name: Feature Cascade           \t\tType: transform                \n",
            "------------------------------------------------------------------------\n",
            "------------------------------------------------------------------------\n",
            " 4.     Name: Min Max Scale             \t\tType: transform                \n",
            "------------------------------------------------------------------------\n",
            "------------------------------------------------------------------------\n",
            " 5.     Name: tvo                       \t\tType: tvo                      \n",
            "------------------------------------------------------------------------\n",
            "\tClassifier: TF Micro\n",
            "\n",
            "\n",
            "\tTraining Algo: Load Model TF Micro\n",
            "\t\tclass_map: {'noise': 1, 'off': 2, 'on': 3}\n",
            "\t\testimator_type: classification\n",
            "\t\tmodel_parameters: {'tflite': '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'}\n",
            "\t\tthreshold: 0.9\n",
            "\n",
            "\tValidation Method: Recall\n",
            "\n",
            "\n",
            "------------------------------------------------------------------------\n",
            "\n"
          ],
          "name": "stdout"
        },
        {
          "output_type": "stream",
          "text": [
            "WARNING:sensiml.base.utility:FeatureGenerationError: MFCC threw an exception so it was dropped ('channel0')\n"
          ],
          "name": "stderr"
        },
        {
          "output_type": "stream",
          "text": [
            "\n",
            "\n",
            "Results Retrieved... Execution Time: 0 min. 0 sec.\n"
          ],
          "name": "stdout"
        }
      ]
    },
    {
      "cell_type": "markdown",
      "metadata": {
        "id": "R27ebOmCtM6n"
      },
      "source": [
        "### Model summary\n",
        "After exectuing the pipeline, the cloud computes a model summary as well as a confusion matrix. The model summary gives a quick overview of the model performance so we can see what the accuracy of the quantized model was accross our data set."
      ]
    },
    {
      "cell_type": "code",
      "metadata": {
        "id": "kXyFXjOqScPa",
        "colab": {
          "base_uri": "https://localhost:8080/"
        },
        "outputId": "c1c1d079-7b7d-49e2-9be2-923b0526ea5c"
      },
      "source": [
        "results.summarize()"
      ],
      "execution_count": 65,
      "outputs": [
        {
          "output_type": "stream",
          "text": [
            "TRAINING ALGORITHM: Load Model TF Micro\n",
            "VALIDATION METHOD:  Recall\n",
            "CLASSIFIER:         TF Micro\n",
            "\n",
            "AVERAGE METRICS:\n",
            "                 F1_SCORE:  55.8  std: 0.00\n",
            "                PRECISION:  56.9  std: 0.00\n",
            "              SENSITIVITY:  55.4  std: 0.00\n",
            "\n",
            "--------------------------------------\n",
            "\n",
            "RECALL MODEL RESULTS : SET VALIDATION\n",
            "\n",
            "MODEL INDEX: Fold 0\n",
            "                 F1_SCORE:    train: 55.76  validation: 55.76  \n",
            "              SENSITIVITY:    train: 55.40  validation: 55.40  \n",
            "\n"
          ],
          "name": "stdout"
        }
      ]
    },
    {
      "cell_type": "markdown",
      "metadata": {
        "id": "jMJk8VhZtPio"
      },
      "source": [
        "### Confusion Matrix\n",
        "\n",
        "The confusion matrix provides information not only about the accuracy, but also what sort of missclassifications occured. The confusion matrix is often one of the best ways to understand how your model is performing, as you can see which classes are difficult to distinguish between. The confusion matrix here also includes the Sensitivity and Postitive Predictivity for each class along with the overal accuracy. If you raise the threshold value, you will notice that some of the class start showing up as having UNK values. This corresponds to an unknown class and is useful for filtering out False Postives or detecting anomalous states."
      ]
    },
    {
      "cell_type": "code",
      "metadata": {
        "id": "ZjplLfn3TGsq",
        "colab": {
          "base_uri": "https://localhost:8080/"
        },
        "outputId": "4586a696-7a59-41d8-9de0-87ed012010a2"
      },
      "source": [
        "model = results.configurations[0].models[0]\n",
        "model.confusion_matrix_stats['validation']"
      ],
      "execution_count": 66,
      "outputs": [
        {
          "output_type": "execute_result",
          "data": {
            "text/plain": [
              "CONFUSION MATRIX:\n",
              "               noise       off        on       UNK       UNC   Support   Sens(%)\n",
              "     noise       0.0       1.0       0.0       2.0       0.0       3.0       0.0\n",
              "       off       0.0     212.0      17.0       2.0       0.0     231.0      91.8\n",
              "        on       0.0      51.0     160.0       4.0       0.0     215.0      74.4\n",
              "\n",
              "     Total         0       264       177         8         0       449          \n",
              "\n",
              "PosPred(%)       nan      80.3      90.4                        Acc(%)      82.9"
            ]
          },
          "metadata": {
            "tags": []
          },
          "execution_count": 66
        }
      ]
    },
    {
      "cell_type": "markdown",
      "metadata": {
        "id": "m_UfQrlktR8H"
      },
      "source": [
        "*Finally*, we save the model knowledge pack with a name. This tells the server to persist this model, and will let us retrive and view the metrics in the future. Models that are not saved will be deleted when the pipeline is rerun. "
      ]
    },
    {
      "cell_type": "code",
      "metadata": {
        "id": "bx4OtmMrvErx"
      },
      "source": [
        "model.knowledgepack.save(\"Tensorflow_model_1\")"
      ],
      "execution_count": null,
      "outputs": []
    },
    {
      "cell_type": "markdown",
      "metadata": {
        "id": "RbnjKa6etYPn"
      },
      "source": [
        "### Offline Model Validation\n",
        "\n",
        "After saving your model, you can return back to the  [Analytic Studio](https://app.sensiml.cloud) to continue validating and generating your firmware. To test your model against any of the captured data files, \n",
        ", select the pipeline and \n",
        "\n",
        "1.   Go to the Explore Model tab of the Analytic Studio.\n",
        "2.   Select the pipeline you built the model with.\n",
        "3.   Select the model you want to test.\n",
        "4.   Select any of the capture files in the Project.\n",
        "5.   Click RUN to classify that capture using the selected model.\n",
        "\n",
        "The model will be compiled in the SensiML Cloud and the output of the classification will be returned. The graph shows the segment start and segment classified for all of the detected events.\n",
        "\n",
        "We can also test the model here by selecting a capture and running it through the model recognize_signal function"
      ]
    },
    {
      "cell_type": "markdown",
      "metadata": {
        "id": "vvFHsXbOZg0j"
      },
      "source": [
        ""
      ]
    },
    {
      "cell_type": "code",
      "metadata": {
        "id": "uAkYdp63TOpo",
        "colab": {
          "base_uri": "https://localhost:8080/",
          "height": 407
        },
        "outputId": "6b35475d-93fb-42c8-d7fc-597d625d3802"
      },
      "source": [
        "dsk.list_captures()"
      ],
      "execution_count": 68,
      "outputs": [
        {
          "output_type": "execute_result",
          "data": {
            "text/html": [
              "<div>\n",
              "<style scoped>\n",
              "    .dataframe tbody tr th:only-of-type {\n",
              "        vertical-align: middle;\n",
              "    }\n",
              "\n",
              "    .dataframe tbody tr th {\n",
              "        vertical-align: top;\n",
              "    }\n",
              "\n",
              "    .dataframe thead th {\n",
              "        text-align: right;\n",
              "    }\n",
              "</style>\n",
              "<table border=\"1\" class=\"dataframe\">\n",
              "  <thead>\n",
              "    <tr style=\"text-align: right;\">\n",
              "      <th></th>\n",
              "      <th>Name</th>\n",
              "      <th>Created</th>\n",
              "      <th>UUID</th>\n",
              "    </tr>\n",
              "  </thead>\n",
              "  <tbody>\n",
              "    <tr>\n",
              "      <th>0</th>\n",
              "      <td>off_7117fb6d_nohash_1.csv</td>\n",
              "      <td>2020-03-03T06:16:39.811606Z</td>\n",
              "      <td>62c72eb6-b905-4df8-9922-96d037d537fd</td>\n",
              "    </tr>\n",
              "    <tr>\n",
              "      <th>1</th>\n",
              "      <td>off_70a00e98_nohash_1.csv</td>\n",
              "      <td>2020-03-03T06:16:37.083128Z</td>\n",
              "      <td>d88c906e-5732-44f6-bdb2-8956d65fd414</td>\n",
              "    </tr>\n",
              "    <tr>\n",
              "      <th>2</th>\n",
              "      <td>off_7096522d_nohash_0.csv</td>\n",
              "      <td>2020-03-03T06:16:34.337949Z</td>\n",
              "      <td>724b3b70-94df-4cda-aef5-1a5f8011f9da</td>\n",
              "    </tr>\n",
              "    <tr>\n",
              "      <th>3</th>\n",
              "      <td>off_6fca237d_nohash_1.csv</td>\n",
              "      <td>2020-03-03T06:16:31.510154Z</td>\n",
              "      <td>47da8df7-83a3-47fc-8343-893d1dd4f3b4</td>\n",
              "    </tr>\n",
              "    <tr>\n",
              "      <th>4</th>\n",
              "      <td>off_6fb3d5a7_nohash_1.csv</td>\n",
              "      <td>2020-03-03T06:16:28.894291Z</td>\n",
              "      <td>3f299386-481a-4bcf-8dee-353586fb078f</td>\n",
              "    </tr>\n",
              "    <tr>\n",
              "      <th>...</th>\n",
              "      <td>...</td>\n",
              "      <td>...</td>\n",
              "      <td>...</td>\n",
              "    </tr>\n",
              "    <tr>\n",
              "      <th>770</th>\n",
              "      <td>off_129c7d8d_nohash_0.csv</td>\n",
              "      <td>2020-03-03T06:06:57.333658Z</td>\n",
              "      <td>ffc50819-816c-4287-a192-08b3adf10562</td>\n",
              "    </tr>\n",
              "    <tr>\n",
              "      <th>771</th>\n",
              "      <td>off_042186b8_nohash_0.csv</td>\n",
              "      <td>2020-03-03T06:06:18.219257Z</td>\n",
              "      <td>58e78d44-3381-40ab-84d7-992b62ec5fc3</td>\n",
              "    </tr>\n",
              "    <tr>\n",
              "      <th>772</th>\n",
              "      <td>off_0227998e_nohash_0.csv</td>\n",
              "      <td>2020-03-03T06:06:14.945909Z</td>\n",
              "      <td>7e067f9c-de03-4741-84c1-11f2bbc9f493</td>\n",
              "    </tr>\n",
              "    <tr>\n",
              "      <th>773</th>\n",
              "      <td>off_017c4098_nohash_4.csv</td>\n",
              "      <td>2020-03-03T06:06:12.572809Z</td>\n",
              "      <td>6a5060d3-1859-4152-bee0-87f779ccf940</td>\n",
              "    </tr>\n",
              "    <tr>\n",
              "      <th>774</th>\n",
              "      <td>off_017c4098_nohash_2.csv</td>\n",
              "      <td>2020-03-03T06:06:09.782707Z</td>\n",
              "      <td>d5f0b11f-8938-4207-8e9c-d9cd58cef205</td>\n",
              "    </tr>\n",
              "  </tbody>\n",
              "</table>\n",
              "<p>775 rows × 3 columns</p>\n",
              "</div>"
            ],
            "text/plain": [
              "                          Name  ...                                  UUID\n",
              "0    off_7117fb6d_nohash_1.csv  ...  62c72eb6-b905-4df8-9922-96d037d537fd\n",
              "1    off_70a00e98_nohash_1.csv  ...  d88c906e-5732-44f6-bdb2-8956d65fd414\n",
              "2    off_7096522d_nohash_0.csv  ...  724b3b70-94df-4cda-aef5-1a5f8011f9da\n",
              "3    off_6fca237d_nohash_1.csv  ...  47da8df7-83a3-47fc-8343-893d1dd4f3b4\n",
              "4    off_6fb3d5a7_nohash_1.csv  ...  3f299386-481a-4bcf-8dee-353586fb078f\n",
              "..                         ...  ...                                   ...\n",
              "770  off_129c7d8d_nohash_0.csv  ...  ffc50819-816c-4287-a192-08b3adf10562\n",
              "771  off_042186b8_nohash_0.csv  ...  58e78d44-3381-40ab-84d7-992b62ec5fc3\n",
              "772  off_0227998e_nohash_0.csv  ...  7e067f9c-de03-4741-84c1-11f2bbc9f493\n",
              "773  off_017c4098_nohash_4.csv  ...  6a5060d3-1859-4152-bee0-87f779ccf940\n",
              "774  off_017c4098_nohash_2.csv  ...  d5f0b11f-8938-4207-8e9c-d9cd58cef205\n",
              "\n",
              "[775 rows x 3 columns]"
            ]
          },
          "metadata": {
            "tags": []
          },
          "execution_count": 68
        }
      ]
    },
    {
      "cell_type": "code",
      "metadata": {
        "id": "-r-7FYXhTSzD",
        "colab": {
          "base_uri": "https://localhost:8080/"
        },
        "outputId": "7e8b8248-2fa1-4704-d78e-c918204854af"
      },
      "source": [
        "res,s = model.recognize_signal(capturefile=\"off_017c4098_nohash_2.csv\")"
      ],
      "execution_count": 69,
      "outputs": [
        {
          "output_type": "stream",
          "text": [
            "\n",
            "Status: Running, Time: 0.09, Executing recognize signal. ..\n",
            "\n",
            "Results Retrieved... Execution Time: 0 min. 22 sec.\n",
            "Results retrieved.\n"
          ],
          "name": "stdout"
        }
      ]
    },
    {
      "cell_type": "code",
      "metadata": {
        "id": "Zx5AuKVRyrYh",
        "colab": {
          "base_uri": "https://localhost:8080/",
          "height": 1000
        },
        "outputId": "cc3b9a77-a110-491c-d954-8d9c8ac7d95e"
      },
      "source": [
        "res"
      ],
      "execution_count": 70,
      "outputs": [
        {
          "output_type": "execute_result",
          "data": {
            "text/html": [
              "<div>\n",
              "<style scoped>\n",
              "    .dataframe tbody tr th:only-of-type {\n",
              "        vertical-align: middle;\n",
              "    }\n",
              "\n",
              "    .dataframe tbody tr th {\n",
              "        vertical-align: top;\n",
              "    }\n",
              "\n",
              "    .dataframe thead th {\n",
              "        text-align: right;\n",
              "    }\n",
              "</style>\n",
              "<table border=\"1\" class=\"dataframe\">\n",
              "  <thead>\n",
              "    <tr style=\"text-align: right;\">\n",
              "      <th></th>\n",
              "      <th>Classification</th>\n",
              "      <th>ClassificationName</th>\n",
              "      <th>FeatureVector</th>\n",
              "      <th>ModelDebug</th>\n",
              "      <th>ModelName</th>\n",
              "      <th>SegmentEnd</th>\n",
              "      <th>SegmentID</th>\n",
              "      <th>SegmentLength</th>\n",
              "      <th>SegmentStart</th>\n",
              "      <th>Capture</th>\n",
              "    </tr>\n",
              "  </thead>\n",
              "  <tbody>\n",
              "    <tr>\n",
              "      <th>0</th>\n",
              "      <td>0</td>\n",
              "      <td>Unknown</td>\n",
              "      <td>[127, 127, 127, 127, 127, 127, 127, 127, 127, ...</td>\n",
              "      <td>[0.359375, 0.722656, 0.703125]</td>\n",
              "      <td>0</td>\n",
              "      <td>399</td>\n",
              "      <td>0</td>\n",
              "      <td>400</td>\n",
              "      <td>0</td>\n",
              "      <td>off_017c4098_nohash_2.csv</td>\n",
              "    </tr>\n",
              "    <tr>\n",
              "      <th>1</th>\n",
              "      <td>0</td>\n",
              "      <td>Unknown</td>\n",
              "      <td>[127, 127, 127, 127, 127, 127, 127, 127, 127, ...</td>\n",
              "      <td>[0.359375, 0.722656, 0.703125]</td>\n",
              "      <td>0</td>\n",
              "      <td>799</td>\n",
              "      <td>1</td>\n",
              "      <td>400</td>\n",
              "      <td>400</td>\n",
              "      <td>off_017c4098_nohash_2.csv</td>\n",
              "    </tr>\n",
              "    <tr>\n",
              "      <th>2</th>\n",
              "      <td>0</td>\n",
              "      <td>Unknown</td>\n",
              "      <td>[127, 127, 127, 127, 127, 127, 127, 127, 127, ...</td>\n",
              "      <td>[0.476562, 0.703125, 0.640625]</td>\n",
              "      <td>0</td>\n",
              "      <td>1199</td>\n",
              "      <td>2</td>\n",
              "      <td>400</td>\n",
              "      <td>800</td>\n",
              "      <td>off_017c4098_nohash_2.csv</td>\n",
              "    </tr>\n",
              "    <tr>\n",
              "      <th>3</th>\n",
              "      <td>0</td>\n",
              "      <td>Unknown</td>\n",
              "      <td>[127, 127, 127, 127, 127, 127, 127, 127, 127, ...</td>\n",
              "      <td>[0.316406, 0.546875, 0.742188]</td>\n",
              "      <td>0</td>\n",
              "      <td>1599</td>\n",
              "      <td>3</td>\n",
              "      <td>400</td>\n",
              "      <td>1200</td>\n",
              "      <td>off_017c4098_nohash_2.csv</td>\n",
              "    </tr>\n",
              "    <tr>\n",
              "      <th>4</th>\n",
              "      <td>0</td>\n",
              "      <td>Unknown</td>\n",
              "      <td>[127, 127, 127, 127, 127, 127, 127, 127, 127, ...</td>\n",
              "      <td>[0.523438, 0.742188, 0.617188]</td>\n",
              "      <td>0</td>\n",
              "      <td>1999</td>\n",
              "      <td>4</td>\n",
              "      <td>400</td>\n",
              "      <td>1600</td>\n",
              "      <td>off_017c4098_nohash_2.csv</td>\n",
              "    </tr>\n",
              "    <tr>\n",
              "      <th>5</th>\n",
              "      <td>0</td>\n",
              "      <td>Unknown</td>\n",
              "      <td>[127, 127, 127, 127, 127, 127, 127, 127, 127, ...</td>\n",
              "      <td>[0.316406, 0.523438, 0.761719]</td>\n",
              "      <td>0</td>\n",
              "      <td>2399</td>\n",
              "      <td>5</td>\n",
              "      <td>400</td>\n",
              "      <td>2000</td>\n",
              "      <td>off_017c4098_nohash_2.csv</td>\n",
              "    </tr>\n",
              "    <tr>\n",
              "      <th>6</th>\n",
              "      <td>0</td>\n",
              "      <td>Unknown</td>\n",
              "      <td>[127, 127, 127, 127, 127, 127, 127, 127, 127, ...</td>\n",
              "      <td>[0.453125, 0.683594, 0.882812]</td>\n",
              "      <td>0</td>\n",
              "      <td>2799</td>\n",
              "      <td>6</td>\n",
              "      <td>400</td>\n",
              "      <td>2400</td>\n",
              "      <td>off_017c4098_nohash_2.csv</td>\n",
              "    </tr>\n",
              "    <tr>\n",
              "      <th>7</th>\n",
              "      <td>0</td>\n",
              "      <td>Unknown</td>\n",
              "      <td>[127, 127, 127, 127, 127, 127, 127, 127, 127, ...</td>\n",
              "      <td>[0.546875, 0.683594, 0.792969]</td>\n",
              "      <td>0</td>\n",
              "      <td>3199</td>\n",
              "      <td>7</td>\n",
              "      <td>400</td>\n",
              "      <td>2800</td>\n",
              "      <td>off_017c4098_nohash_2.csv</td>\n",
              "    </tr>\n",
              "    <tr>\n",
              "      <th>8</th>\n",
              "      <td>0</td>\n",
              "      <td>Unknown</td>\n",
              "      <td>[127, 127, 127, 127, 127, 127, 127, 127, 127, ...</td>\n",
              "      <td>[0.570312, 0.835938, 0.835938]</td>\n",
              "      <td>0</td>\n",
              "      <td>3599</td>\n",
              "      <td>8</td>\n",
              "      <td>400</td>\n",
              "      <td>3200</td>\n",
              "      <td>off_017c4098_nohash_2.csv</td>\n",
              "    </tr>\n",
              "    <tr>\n",
              "      <th>9</th>\n",
              "      <td>0</td>\n",
              "      <td>Unknown</td>\n",
              "      <td>[175, 116, 130, 127, 130, 132, 120, 137, 130, ...</td>\n",
              "      <td>[0.5, 0.617188, 0.792969]</td>\n",
              "      <td>0</td>\n",
              "      <td>3999</td>\n",
              "      <td>9</td>\n",
              "      <td>400</td>\n",
              "      <td>3600</td>\n",
              "      <td>off_017c4098_nohash_2.csv</td>\n",
              "    </tr>\n",
              "    <tr>\n",
              "      <th>10</th>\n",
              "      <td>0</td>\n",
              "      <td>Unknown</td>\n",
              "      <td>[175, 117, 132, 128, 129, 128, 123, 131, 128, ...</td>\n",
              "      <td>[0.570312, 0.792969, 0.808594]</td>\n",
              "      <td>0</td>\n",
              "      <td>4399</td>\n",
              "      <td>10</td>\n",
              "      <td>400</td>\n",
              "      <td>4000</td>\n",
              "      <td>off_017c4098_nohash_2.csv</td>\n",
              "    </tr>\n",
              "    <tr>\n",
              "      <th>11</th>\n",
              "      <td>3</td>\n",
              "      <td>on</td>\n",
              "      <td>[176, 116, 134, 127, 122, 128, 128, 135, 123, ...</td>\n",
              "      <td>[0.257812, 0.296875, 0.917969]</td>\n",
              "      <td>0</td>\n",
              "      <td>4799</td>\n",
              "      <td>11</td>\n",
              "      <td>400</td>\n",
              "      <td>4400</td>\n",
              "      <td>off_017c4098_nohash_2.csv</td>\n",
              "    </tr>\n",
              "    <tr>\n",
              "      <th>12</th>\n",
              "      <td>0</td>\n",
              "      <td>Unknown</td>\n",
              "      <td>[176, 116, 133, 129, 127, 128, 124, 132, 121, ...</td>\n",
              "      <td>[0.316406, 0.453125, 0.882812]</td>\n",
              "      <td>0</td>\n",
              "      <td>5199</td>\n",
              "      <td>12</td>\n",
              "      <td>400</td>\n",
              "      <td>4800</td>\n",
              "      <td>off_017c4098_nohash_2.csv</td>\n",
              "    </tr>\n",
              "    <tr>\n",
              "      <th>13</th>\n",
              "      <td>3</td>\n",
              "      <td>on</td>\n",
              "      <td>[176, 115, 136, 126, 126, 128, 128, 129, 127, ...</td>\n",
              "      <td>[0.382812, 0.453125, 0.902344]</td>\n",
              "      <td>0</td>\n",
              "      <td>5599</td>\n",
              "      <td>13</td>\n",
              "      <td>400</td>\n",
              "      <td>5200</td>\n",
              "      <td>off_017c4098_nohash_2.csv</td>\n",
              "    </tr>\n",
              "    <tr>\n",
              "      <th>14</th>\n",
              "      <td>0</td>\n",
              "      <td>Unknown</td>\n",
              "      <td>[177, 118, 134, 121, 129, 129, 124, 143, 130, ...</td>\n",
              "      <td>[0.429688, 0.546875, 0.851562]</td>\n",
              "      <td>0</td>\n",
              "      <td>5999</td>\n",
              "      <td>14</td>\n",
              "      <td>400</td>\n",
              "      <td>5600</td>\n",
              "      <td>off_017c4098_nohash_2.csv</td>\n",
              "    </tr>\n",
              "    <tr>\n",
              "      <th>15</th>\n",
              "      <td>0</td>\n",
              "      <td>Unknown</td>\n",
              "      <td>[175, 118, 131, 120, 130, 125, 118, 140, 134, ...</td>\n",
              "      <td>[0.382812, 0.570312, 0.863281]</td>\n",
              "      <td>0</td>\n",
              "      <td>6399</td>\n",
              "      <td>15</td>\n",
              "      <td>400</td>\n",
              "      <td>6000</td>\n",
              "      <td>off_017c4098_nohash_2.csv</td>\n",
              "    </tr>\n",
              "    <tr>\n",
              "      <th>16</th>\n",
              "      <td>0</td>\n",
              "      <td>Unknown</td>\n",
              "      <td>[175, 115, 133, 125, 125, 128, 127, 133, 130, ...</td>\n",
              "      <td>[0.722656, 0.863281, 0.742188]</td>\n",
              "      <td>0</td>\n",
              "      <td>6799</td>\n",
              "      <td>16</td>\n",
              "      <td>400</td>\n",
              "      <td>6400</td>\n",
              "      <td>off_017c4098_nohash_2.csv</td>\n",
              "    </tr>\n",
              "    <tr>\n",
              "      <th>17</th>\n",
              "      <td>0</td>\n",
              "      <td>Unknown</td>\n",
              "      <td>[175, 118, 132, 118, 120, 127, 129, 135, 136, ...</td>\n",
              "      <td>[0.316406, 0.382812, 0.894531]</td>\n",
              "      <td>0</td>\n",
              "      <td>7199</td>\n",
              "      <td>17</td>\n",
              "      <td>400</td>\n",
              "      <td>6800</td>\n",
              "      <td>off_017c4098_nohash_2.csv</td>\n",
              "    </tr>\n",
              "    <tr>\n",
              "      <th>18</th>\n",
              "      <td>0</td>\n",
              "      <td>Unknown</td>\n",
              "      <td>[176, 118, 135, 123, 130, 127, 120, 117, 120, ...</td>\n",
              "      <td>[0.523438, 0.703125, 0.808594]</td>\n",
              "      <td>0</td>\n",
              "      <td>7599</td>\n",
              "      <td>18</td>\n",
              "      <td>400</td>\n",
              "      <td>7200</td>\n",
              "      <td>off_017c4098_nohash_2.csv</td>\n",
              "    </tr>\n",
              "    <tr>\n",
              "      <th>19</th>\n",
              "      <td>0</td>\n",
              "      <td>Unknown</td>\n",
              "      <td>[176, 117, 137, 128, 132, 131, 119, 115, 122, ...</td>\n",
              "      <td>[0.40625, 0.59375, 0.835938]</td>\n",
              "      <td>0</td>\n",
              "      <td>7999</td>\n",
              "      <td>19</td>\n",
              "      <td>400</td>\n",
              "      <td>7600</td>\n",
              "      <td>off_017c4098_nohash_2.csv</td>\n",
              "    </tr>\n",
              "    <tr>\n",
              "      <th>20</th>\n",
              "      <td>0</td>\n",
              "      <td>Unknown</td>\n",
              "      <td>[174, 117, 133, 127, 134, 128, 119, 120, 126, ...</td>\n",
              "      <td>[0.335938, 0.683594, 0.851562]</td>\n",
              "      <td>0</td>\n",
              "      <td>8399</td>\n",
              "      <td>20</td>\n",
              "      <td>400</td>\n",
              "      <td>8000</td>\n",
              "      <td>off_017c4098_nohash_2.csv</td>\n",
              "    </tr>\n",
              "    <tr>\n",
              "      <th>21</th>\n",
              "      <td>0</td>\n",
              "      <td>Unknown</td>\n",
              "      <td>[174, 117, 134, 130, 133, 127, 125, 129, 126, ...</td>\n",
              "      <td>[0.523438, 0.722656, 0.792969]</td>\n",
              "      <td>0</td>\n",
              "      <td>8799</td>\n",
              "      <td>21</td>\n",
              "      <td>400</td>\n",
              "      <td>8400</td>\n",
              "      <td>off_017c4098_nohash_2.csv</td>\n",
              "    </tr>\n",
              "    <tr>\n",
              "      <th>22</th>\n",
              "      <td>0</td>\n",
              "      <td>Unknown</td>\n",
              "      <td>[175, 117, 136, 127, 139, 130, 129, 133, 128, ...</td>\n",
              "      <td>[0.476562, 0.871094, 0.808594]</td>\n",
              "      <td>0</td>\n",
              "      <td>9199</td>\n",
              "      <td>22</td>\n",
              "      <td>400</td>\n",
              "      <td>8800</td>\n",
              "      <td>off_017c4098_nohash_2.csv</td>\n",
              "    </tr>\n",
              "    <tr>\n",
              "      <th>23</th>\n",
              "      <td>0</td>\n",
              "      <td>Unknown</td>\n",
              "      <td>[176, 115, 136, 127, 122, 132, 120, 127, 128, ...</td>\n",
              "      <td>[0.523438, 0.722656, 0.808594]</td>\n",
              "      <td>0</td>\n",
              "      <td>9599</td>\n",
              "      <td>23</td>\n",
              "      <td>400</td>\n",
              "      <td>9200</td>\n",
              "      <td>off_017c4098_nohash_2.csv</td>\n",
              "    </tr>\n",
              "    <tr>\n",
              "      <th>24</th>\n",
              "      <td>0</td>\n",
              "      <td>Unknown</td>\n",
              "      <td>[176, 114, 132, 120, 130, 140, 128, 132, 119, ...</td>\n",
              "      <td>[0.453125, 0.617188, 0.824219]</td>\n",
              "      <td>0</td>\n",
              "      <td>9999</td>\n",
              "      <td>24</td>\n",
              "      <td>400</td>\n",
              "      <td>9600</td>\n",
              "      <td>off_017c4098_nohash_2.csv</td>\n",
              "    </tr>\n",
              "    <tr>\n",
              "      <th>25</th>\n",
              "      <td>0</td>\n",
              "      <td>Unknown</td>\n",
              "      <td>[176, 115, 131, 124, 135, 131, 121, 128, 129, ...</td>\n",
              "      <td>[0.570312, 0.777344, 0.808594]</td>\n",
              "      <td>0</td>\n",
              "      <td>10399</td>\n",
              "      <td>25</td>\n",
              "      <td>400</td>\n",
              "      <td>10000</td>\n",
              "      <td>off_017c4098_nohash_2.csv</td>\n",
              "    </tr>\n",
              "    <tr>\n",
              "      <th>26</th>\n",
              "      <td>2</td>\n",
              "      <td>off</td>\n",
              "      <td>[175, 115, 136, 124, 130, 133, 120, 126, 132, ...</td>\n",
              "      <td>[0.640625, 0.902344, 0.683594]</td>\n",
              "      <td>0</td>\n",
              "      <td>10799</td>\n",
              "      <td>26</td>\n",
              "      <td>400</td>\n",
              "      <td>10400</td>\n",
              "      <td>off_017c4098_nohash_2.csv</td>\n",
              "    </tr>\n",
              "    <tr>\n",
              "      <th>27</th>\n",
              "      <td>0</td>\n",
              "      <td>Unknown</td>\n",
              "      <td>[176, 114, 134, 122, 134, 133, 127, 128, 134, ...</td>\n",
              "      <td>[0.683594, 0.835938, 0.761719]</td>\n",
              "      <td>0</td>\n",
              "      <td>11199</td>\n",
              "      <td>27</td>\n",
              "      <td>400</td>\n",
              "      <td>10800</td>\n",
              "      <td>off_017c4098_nohash_2.csv</td>\n",
              "    </tr>\n",
              "    <tr>\n",
              "      <th>28</th>\n",
              "      <td>2</td>\n",
              "      <td>off</td>\n",
              "      <td>[175, 115, 136, 123, 132, 136, 133, 125, 132, ...</td>\n",
              "      <td>[0.050781, 0.996094, 0.988281]</td>\n",
              "      <td>0</td>\n",
              "      <td>11599</td>\n",
              "      <td>28</td>\n",
              "      <td>400</td>\n",
              "      <td>11200</td>\n",
              "      <td>off_017c4098_nohash_2.csv</td>\n",
              "    </tr>\n",
              "    <tr>\n",
              "      <th>29</th>\n",
              "      <td>2</td>\n",
              "      <td>off</td>\n",
              "      <td>[175, 115, 131, 123, 131, 131, 129, 137, 131, ...</td>\n",
              "      <td>[0.003906, 0.996094, 0.996094]</td>\n",
              "      <td>0</td>\n",
              "      <td>11999</td>\n",
              "      <td>29</td>\n",
              "      <td>400</td>\n",
              "      <td>11600</td>\n",
              "      <td>off_017c4098_nohash_2.csv</td>\n",
              "    </tr>\n",
              "    <tr>\n",
              "      <th>30</th>\n",
              "      <td>2</td>\n",
              "      <td>off</td>\n",
              "      <td>[176, 115, 133, 125, 131, 132, 122, 121, 125, ...</td>\n",
              "      <td>[0.003906, 0.996094, 0.996094]</td>\n",
              "      <td>0</td>\n",
              "      <td>12399</td>\n",
              "      <td>30</td>\n",
              "      <td>400</td>\n",
              "      <td>12000</td>\n",
              "      <td>off_017c4098_nohash_2.csv</td>\n",
              "    </tr>\n",
              "    <tr>\n",
              "      <th>31</th>\n",
              "      <td>2</td>\n",
              "      <td>off</td>\n",
              "      <td>[177, 115, 136, 126, 136, 132, 118, 122, 122, ...</td>\n",
              "      <td>[0.0, 0.996094, 0.996094]</td>\n",
              "      <td>0</td>\n",
              "      <td>12799</td>\n",
              "      <td>31</td>\n",
              "      <td>400</td>\n",
              "      <td>12400</td>\n",
              "      <td>off_017c4098_nohash_2.csv</td>\n",
              "    </tr>\n",
              "    <tr>\n",
              "      <th>32</th>\n",
              "      <td>2</td>\n",
              "      <td>off</td>\n",
              "      <td>[177, 114, 134, 127, 133, 127, 121, 132, 122, ...</td>\n",
              "      <td>[0.0, 0.996094, 0.996094]</td>\n",
              "      <td>0</td>\n",
              "      <td>13199</td>\n",
              "      <td>32</td>\n",
              "      <td>400</td>\n",
              "      <td>12800</td>\n",
              "      <td>off_017c4098_nohash_2.csv</td>\n",
              "    </tr>\n",
              "    <tr>\n",
              "      <th>33</th>\n",
              "      <td>2</td>\n",
              "      <td>off</td>\n",
              "      <td>[176, 115, 133, 124, 133, 129, 120, 136, 132, ...</td>\n",
              "      <td>[0.0, 0.996094, 0.996094]</td>\n",
              "      <td>0</td>\n",
              "      <td>13599</td>\n",
              "      <td>33</td>\n",
              "      <td>400</td>\n",
              "      <td>13200</td>\n",
              "      <td>off_017c4098_nohash_2.csv</td>\n",
              "    </tr>\n",
              "    <tr>\n",
              "      <th>34</th>\n",
              "      <td>2</td>\n",
              "      <td>off</td>\n",
              "      <td>[176, 116, 133, 121, 130, 128, 124, 128, 123, ...</td>\n",
              "      <td>[0.0, 0.996094, 0.996094]</td>\n",
              "      <td>0</td>\n",
              "      <td>13999</td>\n",
              "      <td>34</td>\n",
              "      <td>400</td>\n",
              "      <td>13600</td>\n",
              "      <td>off_017c4098_nohash_2.csv</td>\n",
              "    </tr>\n",
              "    <tr>\n",
              "      <th>35</th>\n",
              "      <td>2</td>\n",
              "      <td>off</td>\n",
              "      <td>[219, 144, 108, 106, 41, 97, 159, 146, 108, 11...</td>\n",
              "      <td>[0.003906, 0.996094, 0.996094]</td>\n",
              "      <td>0</td>\n",
              "      <td>14399</td>\n",
              "      <td>35</td>\n",
              "      <td>400</td>\n",
              "      <td>14000</td>\n",
              "      <td>off_017c4098_nohash_2.csv</td>\n",
              "    </tr>\n",
              "    <tr>\n",
              "      <th>36</th>\n",
              "      <td>2</td>\n",
              "      <td>off</td>\n",
              "      <td>[227, 142, 103, 112, 48, 108, 146, 153, 114, 1...</td>\n",
              "      <td>[0.003906, 0.996094, 0.996094]</td>\n",
              "      <td>0</td>\n",
              "      <td>14799</td>\n",
              "      <td>36</td>\n",
              "      <td>400</td>\n",
              "      <td>14400</td>\n",
              "      <td>off_017c4098_nohash_2.csv</td>\n",
              "    </tr>\n",
              "    <tr>\n",
              "      <th>37</th>\n",
              "      <td>2</td>\n",
              "      <td>off</td>\n",
              "      <td>[228, 140, 93, 115, 53, 92, 158, 148, 114, 122...</td>\n",
              "      <td>[0.039062, 0.996094, 0.996094]</td>\n",
              "      <td>0</td>\n",
              "      <td>15199</td>\n",
              "      <td>37</td>\n",
              "      <td>400</td>\n",
              "      <td>14800</td>\n",
              "      <td>off_017c4098_nohash_2.csv</td>\n",
              "    </tr>\n",
              "    <tr>\n",
              "      <th>38</th>\n",
              "      <td>2</td>\n",
              "      <td>off</td>\n",
              "      <td>[230, 139, 91, 118, 59, 98, 155, 153, 115, 115...</td>\n",
              "      <td>[0.035156, 0.996094, 0.996094]</td>\n",
              "      <td>0</td>\n",
              "      <td>15599</td>\n",
              "      <td>38</td>\n",
              "      <td>400</td>\n",
              "      <td>15200</td>\n",
              "      <td>off_017c4098_nohash_2.csv</td>\n",
              "    </tr>\n",
              "    <tr>\n",
              "      <th>39</th>\n",
              "      <td>2</td>\n",
              "      <td>off</td>\n",
              "      <td>[229, 139, 90, 114, 59, 105, 152, 156, 113, 10...</td>\n",
              "      <td>[0.019531, 0.996094, 0.992188]</td>\n",
              "      <td>0</td>\n",
              "      <td>15999</td>\n",
              "      <td>39</td>\n",
              "      <td>400</td>\n",
              "      <td>15600</td>\n",
              "      <td>off_017c4098_nohash_2.csv</td>\n",
              "    </tr>\n",
              "  </tbody>\n",
              "</table>\n",
              "</div>"
            ],
            "text/plain": [
              "    Classification ClassificationName  ... SegmentStart                    Capture\n",
              "0                0            Unknown  ...            0  off_017c4098_nohash_2.csv\n",
              "1                0            Unknown  ...          400  off_017c4098_nohash_2.csv\n",
              "2                0            Unknown  ...          800  off_017c4098_nohash_2.csv\n",
              "3                0            Unknown  ...         1200  off_017c4098_nohash_2.csv\n",
              "4                0            Unknown  ...         1600  off_017c4098_nohash_2.csv\n",
              "5                0            Unknown  ...         2000  off_017c4098_nohash_2.csv\n",
              "6                0            Unknown  ...         2400  off_017c4098_nohash_2.csv\n",
              "7                0            Unknown  ...         2800  off_017c4098_nohash_2.csv\n",
              "8                0            Unknown  ...         3200  off_017c4098_nohash_2.csv\n",
              "9                0            Unknown  ...         3600  off_017c4098_nohash_2.csv\n",
              "10               0            Unknown  ...         4000  off_017c4098_nohash_2.csv\n",
              "11               3                 on  ...         4400  off_017c4098_nohash_2.csv\n",
              "12               0            Unknown  ...         4800  off_017c4098_nohash_2.csv\n",
              "13               3                 on  ...         5200  off_017c4098_nohash_2.csv\n",
              "14               0            Unknown  ...         5600  off_017c4098_nohash_2.csv\n",
              "15               0            Unknown  ...         6000  off_017c4098_nohash_2.csv\n",
              "16               0            Unknown  ...         6400  off_017c4098_nohash_2.csv\n",
              "17               0            Unknown  ...         6800  off_017c4098_nohash_2.csv\n",
              "18               0            Unknown  ...         7200  off_017c4098_nohash_2.csv\n",
              "19               0            Unknown  ...         7600  off_017c4098_nohash_2.csv\n",
              "20               0            Unknown  ...         8000  off_017c4098_nohash_2.csv\n",
              "21               0            Unknown  ...         8400  off_017c4098_nohash_2.csv\n",
              "22               0            Unknown  ...         8800  off_017c4098_nohash_2.csv\n",
              "23               0            Unknown  ...         9200  off_017c4098_nohash_2.csv\n",
              "24               0            Unknown  ...         9600  off_017c4098_nohash_2.csv\n",
              "25               0            Unknown  ...        10000  off_017c4098_nohash_2.csv\n",
              "26               2                off  ...        10400  off_017c4098_nohash_2.csv\n",
              "27               0            Unknown  ...        10800  off_017c4098_nohash_2.csv\n",
              "28               2                off  ...        11200  off_017c4098_nohash_2.csv\n",
              "29               2                off  ...        11600  off_017c4098_nohash_2.csv\n",
              "30               2                off  ...        12000  off_017c4098_nohash_2.csv\n",
              "31               2                off  ...        12400  off_017c4098_nohash_2.csv\n",
              "32               2                off  ...        12800  off_017c4098_nohash_2.csv\n",
              "33               2                off  ...        13200  off_017c4098_nohash_2.csv\n",
              "34               2                off  ...        13600  off_017c4098_nohash_2.csv\n",
              "35               2                off  ...        14000  off_017c4098_nohash_2.csv\n",
              "36               2                off  ...        14400  off_017c4098_nohash_2.csv\n",
              "37               2                off  ...        14800  off_017c4098_nohash_2.csv\n",
              "38               2                off  ...        15200  off_017c4098_nohash_2.csv\n",
              "39               2                off  ...        15600  off_017c4098_nohash_2.csv\n",
              "\n",
              "[40 rows x 10 columns]"
            ]
          },
          "metadata": {
            "tags": []
          },
          "execution_count": 70
        }
      ]
    },
    {
      "cell_type": "code",
      "metadata": {
        "id": "zl9G_Ji6Kyxv"
      },
      "source": [
        ""
      ],
      "execution_count": null,
      "outputs": []
    }
  ]
}