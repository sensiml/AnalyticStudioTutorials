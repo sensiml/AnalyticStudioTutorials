{
 "cells": [
  {
   "cell_type": "markdown",
   "metadata": {},
   "source": [
    "# Getting Started with the SensiML Python SDK\n",
    "\n",
    "This tutorial is a continuation of the Getting Started tutorial at https://sensiml.com/documentation/guides/getting-started/overview.html\n",
    "\n",
    "We recommend you complete the main Getting Started Guide above before using the SensiML Python SDK.\n",
    "\n",
    "This tutorial is good for two scenarios:\n",
    "\n",
    "* You are experienced with machine learning and want to create your own Knowledge Pack with customized algorithms\n",
    "* You already generated a Knowledge Pack using the Analytics Studio and want to find out how you can tweak the underlying features of the Knowledge Pack even further\n",
    "\n",
    "***Prerequisites:*** You should have already uploaded the Quick Start project through the DCL called **Slide Demo**\n",
    "\n",
    "The goal of this tutorial is to give insight into the more advanced features in building a custom algorithm for a Knowledge Pack.\n",
    "\n",
    "There are three main steps to building a SensiML Knowledge Pack:\n",
    "\n",
    "    - Query your data\n",
    "    - Transform the data into a feature vector\n",
    "    - Build the model to fit on the sensor device\n",
    "\n",
    "## Loading Your Project\n",
    "\n",
    "First you need to load the project you created through the Data Capture Lab. In our example it is called 'Slide Demo'"
   ]
  },
  {
   "cell_type": "code",
   "execution_count": 15,
   "metadata": {},
   "outputs": [],
   "source": [
    "%matplotlib inline\n",
    "\n",
    "from sensiml import SensiML\n",
    "\n",
    "client = SensiML()"
   ]
  },
  {
   "cell_type": "code",
   "execution_count": 16,
   "metadata": {},
   "outputs": [],
   "source": [
    "client.project ='Slide Demo'"
   ]
  },
  {
   "cell_type": "markdown",
   "metadata": {},
   "source": [
    "The next step is to initialize a pipeline space to work in. A pipeline includes each step that you perform on the data to build a SensiML Knowledge Pack. The work you do in the pipeline will be stored in SensiML Cloud so that you can share pipelines with team members and come back to stored work in the future. Add a pipeline to the project using the following code snippet. \n",
    "        \n",
    "        client.pipeline = \"Name of your pipeline\""
   ]
  },
  {
   "cell_type": "code",
   "execution_count": 17,
   "metadata": {},
   "outputs": [],
   "source": [
    "client.pipeline = \"Slide Demo Pipeline\""
   ]
  },
  {
   "cell_type": "markdown",
   "metadata": {},
   "source": [
    "## Query Your Data\n",
    "\n",
    "To select the data you want to use in your pipeline you need to add a query step. Queries give us a way to select and filter the data we want to use in our pipeline. First, find your segmenter id by using the list_segmenters API\n"
   ]
  },
  {
   "cell_type": "code",
   "execution_count": null,
   "metadata": {},
   "outputs": [],
   "source": [
    "client.list_segmenters()"
   ]
  },
  {
   "cell_type": "markdown",
   "metadata": {},
   "source": [
    "Next create your query using the create_query API. Replace **Your Segmenter ID** below"
   ]
  },
  {
   "cell_type": "code",
   "execution_count": null,
   "metadata": {},
   "outputs": [],
   "source": [
    "client.create_query(name=\"My Query\",\n",
    "                 segmenter=<Your Segmenter ID>,\n",
    "                 label_column=\"Label\",\n",
    "                 metadata_columns=[\"Subject\"],\n",
    "                 columns=[\"AccelerometerX\", \"AccelerometerY\",\"AccelerometerZ\",\"GyroscopeX\",\"GyroscopeY\",\"GyroscopeZ\"]\n",
    "                )"
   ]
  },
  {
   "cell_type": "markdown",
   "metadata": {},
   "source": [
    "## Building a Pipeline\n",
    "Throughout this notebook we will add multiple steps to transform the data in a pipeline. \n",
    "\n",
    "*Note: No work is done on the data until you execute the pipeline, i.e., client.pipeline.execute()*\n",
    "\n",
    "The main steps of a pipeline include:\n",
    "\n",
    "    -Query\n",
    "    -Feature Engineering\n",
    "    -Model Generation\n",
    "\n",
    "It is important that you add the steps in the right order. If you accidentally add them in the wrong order or want to restart, simply enter the command:\n",
    "    \n",
    "    client.pipeline.reset()\n",
    "\n",
    "## Adding your Query step\n",
    "\n",
    "Let's add the query step that you created above. Use the command below:"
   ]
  },
  {
   "cell_type": "code",
   "execution_count": null,
   "metadata": {},
   "outputs": [],
   "source": [
    "client.pipeline.reset()\n",
    "client.pipeline.set_input_query('My Query')"
   ]
  },
  {
   "cell_type": "markdown",
   "metadata": {},
   "source": [
    "### Pipeline Progress\n",
    "To see the current steps in your pipeline you can enter the command:"
   ]
  },
  {
   "cell_type": "code",
   "execution_count": null,
   "metadata": {},
   "outputs": [],
   "source": [
    "client.pipeline.describe()"
   ]
  },
  {
   "cell_type": "markdown",
   "metadata": {},
   "source": [
    "\n",
    "## SensiML Core Functions\n",
    "\n",
    "The Analytics Studio provides a way to define a pipeline for feature vector and model building. The feature vector generation part of the pipeline includes over 100 core functions that can be split into a few different types:\n",
    "\n",
    "* Sensor transforms - these are applied to the data directly as it comes off the sensor, they can be smoothing functions, magnitude of sensor columns etc.\n",
    "* Segmentation - the segmenter selects regions of interest from the streaming data. This can be an event if you are using an event detection segmenter, or simply a sliding window which buffers a segment of data and sends it to the next step.\n",
    "* Segment transforms - operates on a segment of data, typically normalizes the data in some way such as demeaning to prepare for feature vector generation.\n",
    "* Feature generators - Algorithms to extract relevant feature vectors from the data streams in preparation for model building.\n",
    "* Feature transforms - Feature transforms normalize all of the features in the feature vector to between 0-255.\n",
    "* Feature selectors - These functions remove features which do not help discriminate between different classes.\n",
    "\n",
    "The Analytics Studio allows you to string together a pipeline composed of these individual steps. The pipeline is sent to our servers where we can take advantage of optimizations to speed up the pipeline processing."
   ]
  },
  {
   "cell_type": "markdown",
   "metadata": {
    "collapsed": true
   },
   "source": [
    "The segmentation and feature engineering part of the pipeline involves transforming data streams into a feature vector that are used to train a model (SensiML Knowledge Pack). This is where we get into the more advanced machine learning part of the Analytics Studio. It is okay if you do not understand everything right away, we are going to walk through some examples of good features for the periodic event use case and give you the tools to explore more features\n",
    "\n",
    "The features in the feature vector must be integers between 0-255. The feature vector can be any length, but in practice you will be limited by the space on the device. \n"
   ]
  },
  {
   "cell_type": "markdown",
   "metadata": {},
   "source": [
    "## Adding a Basic Core Function\n",
    "Next we're going to add one core function and explain how to work with other core functions.\n",
    "\n",
    "A core function that is often useful for normalizing data is the magnitude sensor transform. Add a Magnitude sensor transform using the command below:"
   ]
  },
  {
   "cell_type": "code",
   "execution_count": null,
   "metadata": {},
   "outputs": [],
   "source": [
    "client.pipeline.add_transform(\"Magnitude\", params={\"input_columns\": ['GyroscopeX','GyroscopeY', 'GyroscopeZ']})\n",
    "client.pipeline.describe()"
   ]
  },
  {
   "cell_type": "markdown",
   "metadata": {},
   "source": [
    "If you want to see specific documentation about any of the Analytics Studio commands, add a <b>?</b> to the end of the command"
   ]
  },
  {
   "cell_type": "markdown",
   "metadata": {},
   "source": [
    "`client.pipeline.add_transform?`"
   ]
  },
  {
   "cell_type": "markdown",
   "metadata": {},
   "source": [
    "## Exploring Core Functions:\n",
    "The magnitude sensor transform is just one of over 100 core functions that the Analytics Studio provides. To see a list of the available core functions, use the following command:"
   ]
  },
  {
   "cell_type": "code",
   "execution_count": null,
   "metadata": {},
   "outputs": [],
   "source": [
    "client.list_functions()"
   ]
  },
  {
   "cell_type": "markdown",
   "metadata": {},
   "source": [
    "To get the documentation for any of the functions, use the command:"
   ]
  },
  {
   "cell_type": "code",
   "execution_count": 6,
   "metadata": {},
   "outputs": [
    {
     "name": "stdout",
     "output_type": "stream",
     "text": [
      "\n",
      "    Computes the magnitude (square sum) of a signal across the input_columns\n",
      "    streams.\n",
      "\n",
      "    Args:\n",
      "        input_columns (list[str]): sensor streams to use in computing the magnitude\n",
      "\n",
      "    Returns:\n",
      "        The input DataFrame with an additional column containing the per-sample\n",
      "        magnitude of the desired input_columns\n",
      "    \n",
      " \n",
      "Inputs\n",
      "---------- \n",
      "  input_data: DataFrame \n",
      "  input_columns: list \n",
      "\n",
      "Usage\n",
      "---------- \n",
      "For DataFrame inputs, provide a string reference to the\n",
      "DataFrame output of a previous step in the pipeline.\n",
      "For Dataframe output, provide a string name that subsequent\n",
      "operations can refer to.\n"
     ]
    }
   ],
   "source": [
    "client.function_description('Magnitude')"
   ]
  },
  {
   "cell_type": "markdown",
   "metadata": {},
   "source": [
    "To get the function parameters, use the following command:"
   ]
  },
  {
   "cell_type": "code",
   "execution_count": 7,
   "metadata": {},
   "outputs": [
    {
     "name": "stdout",
     "output_type": "stream",
     "text": [
      "client.pipeline.add_transform(\"Magnitude\", params={\"input_columns\": <list>,\n",
      "                                })\n"
     ]
    }
   ],
   "source": [
    "client.function_help('Magnitude')"
   ]
  },
  {
   "cell_type": "markdown",
   "metadata": {},
   "source": [
    "## Function Snippets\n",
    "\n",
    "The SensiML Python SDK includes function snippets that will auto-generate the function parameters for you. To use a function snippet, execute the following command: \n",
    "\n",
    "        client.snippets.Sensor_Transform.Magnitude()\n",
    "\n",
    "To see snippets in action, go ahead and execute the cell below:"
   ]
  },
  {
   "cell_type": "code",
   "execution_count": null,
   "metadata": {},
   "outputs": [],
   "source": [
    "client.snippets.Sensor_Transform.Magnitude()"
   ]
  },
  {
   "cell_type": "markdown",
   "metadata": {},
   "source": [
    "## Pipeline Execution\n",
    "\n",
    "When executing the pipeline, there will always be two results returned. Take a look at the next cell. The first variable <b>magnitude_data</b> will be the actual data. The second variable <b>stats</b> will contain information about the pipeline execution on the server."
   ]
  },
  {
   "cell_type": "code",
   "execution_count": null,
   "metadata": {
    "scrolled": false
   },
   "outputs": [],
   "source": [
    "magnitude_data, stats = client.pipeline.execute()"
   ]
  },
  {
   "cell_type": "markdown",
   "metadata": {},
   "source": [
    "Explore the returned <b>magnitude_data</b> using the command below."
   ]
  },
  {
   "cell_type": "code",
   "execution_count": null,
   "metadata": {},
   "outputs": [],
   "source": [
    "magnitude_data.head()"
   ]
  },
  {
   "cell_type": "markdown",
   "metadata": {},
   "source": [
    "Notice that an additional column **Magnitude_ST_0000** is added to the dataframe. The subscripts refer to this being a sensor transform (ST) and being the first one added **0000**. If you were to add another sensor transform, for example taking the magnitude of the accelerometer data as well, you would get another column **Magnitude_ST_0001**."
   ]
  },
  {
   "cell_type": "markdown",
   "metadata": {},
   "source": [
    "## Performing Segmentation"
   ]
  },
  {
   "cell_type": "markdown",
   "metadata": {},
   "source": [
    "The next step is to segment our data into windows which we can perform recognition on. For periodic events we want to use the Windowing Transform. Go ahead and look at the function description. Delta is the sliding window overlap. Setting delta to the same value as the window size means that there is no overlap in our segmented windows. "
   ]
  },
  {
   "cell_type": "code",
   "execution_count": null,
   "metadata": {},
   "outputs": [],
   "source": [
    "client.pipeline.add_transform(\"Windowing\", params={\"window_size\": 300, \n",
    "                                                \"delta\": 300,})\n",
    "client.pipeline.describe(show_params=True)"
   ]
  },
  {
   "cell_type": "markdown",
   "metadata": {},
   "source": [
    "Different window sizes can lead to better models. For this project lets reduce the window_size and delta to 100. The actual time that the window size represents for this data set it corresponds to 2 seconds, as our data was recorded at 100HZ. Go ahead and change the values in the Windowing Segmenter and re-execute. You will see the parameters change for the windowing segmenter change, but a new step shouldn't be added."
   ]
  },
  {
   "cell_type": "code",
   "execution_count": null,
   "metadata": {},
   "outputs": [],
   "source": [
    "client.pipeline.add_transform(\"Windowing\", params={\"window_size\": 100, \n",
    "                                                \"delta\": 100,})\n",
    "client.pipeline.describe(show_params=True)"
   ]
  },
  {
   "cell_type": "markdown",
   "metadata": {},
   "source": [
    "## Feature Vector Generation\n",
    "At this point we are ready to generate a feature vector from our segments. Feature generators \n",
    "are algorithms to extract relevant feature vectors from the data streams in preparation for model building. They can be simple features such as <b>mean</b> up to more complex features such as the <b>fourier transform</b>.\n",
    "\n",
    "Feature generators are all added into a single step and run in parallel against the same input data. Let's add two feature generators now:"
   ]
  },
  {
   "cell_type": "code",
   "execution_count": null,
   "metadata": {},
   "outputs": [],
   "source": [
    "client.pipeline.add_feature_generator([\"Mean\", 'Standard Deviation'],\n",
    "                                   function_defaults = {\"columns\":[u'Magnitude_ST_0000']})"
   ]
  },
  {
   "cell_type": "markdown",
   "metadata": {},
   "source": [
    "We have added two feature generators from the subtype <b>Statistical</b>. The more features, the better chance you have of building a successful model. Let's try adding a few more feature generators of the same subtype. Call client.list_functions() and you can find more feature generators of the same type"
   ]
  },
  {
   "cell_type": "code",
   "execution_count": null,
   "metadata": {},
   "outputs": [],
   "source": [
    "client.pipeline.add_feature_generator([\"Mean\", 'Standard Deviation', 'Sum', '25th Percentile'],\n",
    "                                   function_defaults = {\"columns\":[u'Magnitude_ST_0000']})"
   ]
  },
  {
   "cell_type": "markdown",
   "metadata": {},
   "source": [
    "Our classifiers are optimized for performance and memory usage to fit on resource constrained devices. Because of this we scale the features in the feature vector to be a single byte each so we need to add the Min Max Scale transform to the pipeline. This function will scale the features in the feature vector to have values between 0 and 255.  "
   ]
  },
  {
   "cell_type": "code",
   "execution_count": null,
   "metadata": {},
   "outputs": [],
   "source": [
    "client.pipeline.add_transform('Min Max Scale')"
   ]
  },
  {
   "cell_type": "code",
   "execution_count": null,
   "metadata": {},
   "outputs": [],
   "source": [
    "feature_vectors, stats = client.pipeline.execute()\n",
    "feature_vectors.head()"
   ]
  },
  {
   "cell_type": "markdown",
   "metadata": {},
   "source": [
    "## Naming Convention\n",
    "\n",
    "The column header represents the name of the feature generator and can be used to identify which feature generator and which inputs were used. The suffix <b>gen</b> lets us know that this was a feature geneator. The number that follows lets us know the index of the feature generator. After that we have the name of in the input columns <b>Magnitude_ST_0000</b> combined with the name of the feature generator <b>Mean</b> ie. <b>Magnitude_ST_0000Mean</b> "
   ]
  },
  {
   "cell_type": "markdown",
   "metadata": {},
   "source": [
    "## Visualizing Feature Vectors\n",
    "\n",
    "Next let's take a look at the feature vectors that you have generated. We plot of the average of all feature vectors grouped by Activity. Ideally, you are looking for feature vectors that are separable in space. How do the ones you've generated look? "
   ]
  },
  {
   "cell_type": "code",
   "execution_count": null,
   "metadata": {},
   "outputs": [],
   "source": [
    "client.pipeline.visualize_features(feature_vectors)"
   ]
  },
  {
   "cell_type": "markdown",
   "metadata": {},
   "source": [
    "## Training a Model\n",
    "\n",
    "* Train Validate Optimze (tvo): This step defines the model validation, the classifier and the training algorithm to build the model with. With SensiML, the model is first trained using the selected training algorithm, then loaded into the hardware simulator and tested using the specified validation method.\n",
    "\n",
    "This pipeline uses the validation method \"Stratified K-Fold Cross-Validation\". This is a standard validation method used to test the performance of a model by splitting the data into k folds, training on k-1 folds and testing against the excluded fold. Then it switches which fold is tested on, and repeats until all of the folds have been used as a test set. The average of the metrics for each model provides a good estimate of how a model trained on the full data set will perform.\n",
    "\n",
    "The training algorithm attempts to optimize the number of neurons and their locations in order to create the best model. We are using the training algorithm \"Hierarchical Clustering with Neuron Optimization,\" which uses a clustering algorithm to optimize neurons placement in feature space. \n",
    "\n",
    "We are using the Pattern Matching Engine (PME) classifier which has two classification modes, RBF and KNN and two distance modes of calculation, L1 and LSUP. You can see the documentation for further descriptions of the classifier."
   ]
  },
  {
   "cell_type": "code",
   "execution_count": null,
   "metadata": {},
   "outputs": [],
   "source": [
    "client.pipeline.set_validation_method('Stratified K-Fold Cross-Validation', params={'number_of_folds':3,})\n",
    "\n",
    "client.pipeline.set_classifier('PME', params={\"classification_mode\":'RBF','distance_mode':'L1'})\n",
    "\n",
    "client.pipeline.set_training_algorithm('Hierarchical Clustering with Neuron Optimization', \n",
    "                                    params = {'number_of_neurons':5})\n",
    "\n",
    "client.pipeline.set_tvo({'validation_seed':2})"
   ]
  },
  {
   "cell_type": "markdown",
   "metadata": {},
   "source": [
    "Go ahead and execute the full pipeline now."
   ]
  },
  {
   "cell_type": "code",
   "execution_count": null,
   "metadata": {},
   "outputs": [],
   "source": [
    "model_results, stats = client.pipeline.execute()"
   ]
  },
  {
   "cell_type": "markdown",
   "metadata": {},
   "source": [
    "The model_results object returned after a TVO step contains a wealth of information about the models that were generated and their performance. A simple view is to use the summarize function to see the performance of our model."
   ]
  },
  {
   "cell_type": "code",
   "execution_count": null,
   "metadata": {},
   "outputs": [],
   "source": [
    "model_results.summarize()"
   ]
  },
  {
   "cell_type": "markdown",
   "metadata": {},
   "source": [
    "Let's grab the fold with the best performing model to compare with our features."
   ]
  },
  {
   "cell_type": "code",
   "execution_count": null,
   "metadata": {},
   "outputs": [],
   "source": [
    "model = model_results.configurations[0].models[0]"
   ]
  },
  {
   "cell_type": "markdown",
   "metadata": {},
   "source": [
    "The neurons are contained in model.neurons. Plot these over the feature_vector plot that you created earlier. This step is often useful for debugging."
   ]
  },
  {
   "cell_type": "code",
   "execution_count": null,
   "metadata": {
    "scrolled": false
   },
   "outputs": [],
   "source": [
    "import pandas as pd\n",
    "client.pipeline.visualize_neuron_array(model, model_results.feature_vectors,\n",
    "                                   pd.DataFrame(model.knowledgepack.feature_summary).Feature.values[-1],\n",
    "                                   pd.DataFrame(model.knowledgepack.feature_summary).Feature.values[0])"
   ]
  },
  {
   "cell_type": "markdown",
   "metadata": {},
   "source": [
    "Save the best model as a SensiML Knowledge Pack. Models that aren't saved will be lost if you run the pipeline again."
   ]
  },
  {
   "cell_type": "code",
   "execution_count": null,
   "metadata": {},
   "outputs": [],
   "source": [
    "model.knowledgepack.save('MyFirstModel_KP')"
   ]
  },
  {
   "cell_type": "markdown",
   "metadata": {},
   "source": [
    "### Downloading the Knowledge Pack\n",
    "\n",
    "This completes the model training portion of the tutorial.\n",
    "\n",
    "1. We recommend using the **Download Model** page within the Analytics Studio at https://app.sensiml.cloud to download the Knowledge Pack model firmware.\n",
    "2. Alternatively, see instructions for setting up the Knowledge Pack API at https://sensiml.com/documentation/sensiml-python-sdk/api-methods/knowledge-packs.html"
   ]
  }
 ],
 "metadata": {
  "anaconda-cloud": {},
  "interpreter": {
   "hash": "70cfed85bfe0018c143bf5f38c4aa7503cd08c8eb3ef4a9a3fd339b8bcea26aa"
  },
  "kernelspec": {
   "display_name": "Python 3",
   "language": "python",
   "name": "python3"
  },
  "language_info": {
   "codemirror_mode": {
    "name": "ipython",
    "version": 3
   },
   "file_extension": ".py",
   "mimetype": "text/x-python",
   "name": "python",
   "nbconvert_exporter": "python",
   "pygments_lexer": "ipython3",
   "version": "3.7.0"
  },
  "toc": {
   "base_numbering": 1,
   "nav_menu": {},
   "number_sections": true,
   "sideBar": true,
   "skip_h1_title": false,
   "title_cell": "Table of Contents",
   "title_sidebar": "Contents",
   "toc_cell": false,
   "toc_position": {},
   "toc_section_display": "block",
   "toc_window_display": false
  }
 },
 "nbformat": 4,
 "nbformat_minor": 1
}
